{
 "cells": [
  {
   "cell_type": "code",
   "execution_count": 4,
   "id": "57434fdc",
   "metadata": {},
   "outputs": [],
   "source": [
    "# Imports\n",
    "\n",
    "import pandas as pd\n",
    "from sklearn.preprocessing import StandardScaler\n",
    "from sklearn.decomposition import PCA\n",
    "from sklearn.cluster import AgglomerativeClustering\n",
    "import plotly.figure_factory as ff\n",
    "import hvplot.pandas\n",
    "import os"
   ]
  },
  {
   "cell_type": "code",
   "execution_count": 2,
   "id": "5c2223ac",
   "metadata": {},
   "outputs": [
    {
     "data": {
      "text/html": [
       "<div>\n",
       "<style scoped>\n",
       "    .dataframe tbody tr th:only-of-type {\n",
       "        vertical-align: middle;\n",
       "    }\n",
       "\n",
       "    .dataframe tbody tr th {\n",
       "        vertical-align: top;\n",
       "    }\n",
       "\n",
       "    .dataframe thead th {\n",
       "        text-align: right;\n",
       "    }\n",
       "</style>\n",
       "<table border=\"1\" class=\"dataframe\">\n",
       "  <thead>\n",
       "    <tr style=\"text-align: right;\">\n",
       "      <th></th>\n",
       "      <th>sepal_length</th>\n",
       "      <th>sepal_width</th>\n",
       "      <th>petal_length</th>\n",
       "      <th>petal_width</th>\n",
       "    </tr>\n",
       "  </thead>\n",
       "  <tbody>\n",
       "    <tr>\n",
       "      <th>0</th>\n",
       "      <td>5.1</td>\n",
       "      <td>3.5</td>\n",
       "      <td>1.4</td>\n",
       "      <td>0.2</td>\n",
       "    </tr>\n",
       "    <tr>\n",
       "      <th>1</th>\n",
       "      <td>4.9</td>\n",
       "      <td>3.0</td>\n",
       "      <td>1.4</td>\n",
       "      <td>0.2</td>\n",
       "    </tr>\n",
       "    <tr>\n",
       "      <th>2</th>\n",
       "      <td>4.7</td>\n",
       "      <td>3.2</td>\n",
       "      <td>1.3</td>\n",
       "      <td>0.2</td>\n",
       "    </tr>\n",
       "    <tr>\n",
       "      <th>3</th>\n",
       "      <td>4.6</td>\n",
       "      <td>3.1</td>\n",
       "      <td>1.5</td>\n",
       "      <td>0.2</td>\n",
       "    </tr>\n",
       "    <tr>\n",
       "      <th>4</th>\n",
       "      <td>5.0</td>\n",
       "      <td>3.6</td>\n",
       "      <td>1.4</td>\n",
       "      <td>0.2</td>\n",
       "    </tr>\n",
       "  </tbody>\n",
       "</table>\n",
       "</div>"
      ],
      "text/plain": [
       "   sepal_length  sepal_width  petal_length  petal_width\n",
       "0           5.1          3.5           1.4          0.2\n",
       "1           4.9          3.0           1.4          0.2\n",
       "2           4.7          3.2           1.3          0.2\n",
       "3           4.6          3.1           1.5          0.2\n",
       "4           5.0          3.6           1.4          0.2"
      ]
     },
     "execution_count": 2,
     "metadata": {},
     "output_type": "execute_result"
    }
   ],
   "source": [
    "# Load data\n",
    "\n",
    "df_iris = pd.read_csv(os.path.join('..', 'Data_Processing', 'new_iris_data.csv'))\n",
    "df_iris.head()"
   ]
  },
  {
   "cell_type": "code",
   "execution_count": 3,
   "id": "c5ff2f41",
   "metadata": {},
   "outputs": [
    {
     "data": {
      "text/html": [
       "<div>\n",
       "<style scoped>\n",
       "    .dataframe tbody tr th:only-of-type {\n",
       "        vertical-align: middle;\n",
       "    }\n",
       "\n",
       "    .dataframe tbody tr th {\n",
       "        vertical-align: top;\n",
       "    }\n",
       "\n",
       "    .dataframe thead th {\n",
       "        text-align: right;\n",
       "    }\n",
       "</style>\n",
       "<table border=\"1\" class=\"dataframe\">\n",
       "  <thead>\n",
       "    <tr style=\"text-align: right;\">\n",
       "      <th></th>\n",
       "      <th>principal component 1</th>\n",
       "      <th>principal component 2</th>\n",
       "    </tr>\n",
       "  </thead>\n",
       "  <tbody>\n",
       "    <tr>\n",
       "      <th>0</th>\n",
       "      <td>-2.264542</td>\n",
       "      <td>0.505704</td>\n",
       "    </tr>\n",
       "    <tr>\n",
       "      <th>1</th>\n",
       "      <td>-2.086426</td>\n",
       "      <td>-0.655405</td>\n",
       "    </tr>\n",
       "    <tr>\n",
       "      <th>2</th>\n",
       "      <td>-2.367950</td>\n",
       "      <td>-0.318477</td>\n",
       "    </tr>\n",
       "    <tr>\n",
       "      <th>3</th>\n",
       "      <td>-2.304197</td>\n",
       "      <td>-0.575368</td>\n",
       "    </tr>\n",
       "    <tr>\n",
       "      <th>4</th>\n",
       "      <td>-2.388777</td>\n",
       "      <td>0.674767</td>\n",
       "    </tr>\n",
       "  </tbody>\n",
       "</table>\n",
       "</div>"
      ],
      "text/plain": [
       "   principal component 1  principal component 2\n",
       "0              -2.264542               0.505704\n",
       "1              -2.086426              -0.655405\n",
       "2              -2.367950              -0.318477\n",
       "3              -2.304197              -0.575368\n",
       "4              -2.388777               0.674767"
      ]
     },
     "execution_count": 3,
     "metadata": {},
     "output_type": "execute_result"
    }
   ],
   "source": [
    "# PCA\n",
    "\n",
    "iris_scaled = StandardScaler().fit_transform(df_iris)\n",
    "pca = PCA(n_components=2)\n",
    "iris_pca = pca.fit_transform(iris_scaled)\n",
    "df_iris_pca = pd.DataFrame(data=iris_pca, columns=['principal component 1', 'principal component 2'])\n",
    "df_iris_pca.head()"
   ]
  },
  {
   "cell_type": "code",
   "execution_count": 17,
   "id": "d2db41f9",
   "metadata": {},
   "outputs": [
    {
     "data": {
      "application/vnd.plotly.v1+json": {
       "config": {
        "plotlyServerURL": "https://plot.ly"
       },
       "data": [
        {
         "hoverinfo": "text",
         "marker": {
          "color": "rgb(0,116,217)"
         },
         "mode": "lines",
         "type": "scatter",
         "x": [
          25,
          25,
          35,
          35
         ],
         "xaxis": "x",
         "y": [
          0,
          0.17422385269037685,
          0.17422385269037685,
          0
         ],
         "yaxis": "y"
        },
        {
         "hoverinfo": "text",
         "marker": {
          "color": "rgb(0,116,217)"
         },
         "mode": "lines",
         "type": "scatter",
         "x": [
          15,
          15,
          30,
          30
         ],
         "xaxis": "x",
         "y": [
          0,
          0.38374369539585373,
          0.38374369539585373,
          0.17422385269037685
         ],
         "yaxis": "y"
        },
        {
         "hoverinfo": "text",
         "marker": {
          "color": "rgb(0,116,217)"
         },
         "mode": "lines",
         "type": "scatter",
         "x": [
          55,
          55,
          65,
          65
         ],
         "xaxis": "x",
         "y": [
          0,
          0.07319361257252464,
          0.07319361257252464,
          0
         ],
         "yaxis": "y"
        },
        {
         "hoverinfo": "text",
         "marker": {
          "color": "rgb(0,116,217)"
         },
         "mode": "lines",
         "type": "scatter",
         "x": [
          45,
          45,
          60,
          60
         ],
         "xaxis": "x",
         "y": [
          0,
          0.4573857687652166,
          0.4573857687652166,
          0.07319361257252464
         ],
         "yaxis": "y"
        },
        {
         "hoverinfo": "text",
         "marker": {
          "color": "rgb(0,116,217)"
         },
         "mode": "lines",
         "type": "scatter",
         "x": [
          22.5,
          22.5,
          52.5,
          52.5
         ],
         "xaxis": "x",
         "y": [
          0.38374369539585373,
          0.7092374678608772,
          0.7092374678608772,
          0.4573857687652166
         ],
         "yaxis": "y"
        },
        {
         "hoverinfo": "text",
         "marker": {
          "color": "rgb(0,116,217)"
         },
         "mode": "lines",
         "type": "scatter",
         "x": [
          5,
          5,
          37.5,
          37.5
         ],
         "xaxis": "x",
         "y": [
          0,
          1.2353990195988576,
          1.2353990195988576,
          0.7092374678608772
         ],
         "yaxis": "y"
        },
        {
         "hoverinfo": "text",
         "marker": {
          "color": "rgb(0,116,217)"
         },
         "mode": "lines",
         "type": "scatter",
         "x": [
          85,
          85,
          95,
          95
         ],
         "xaxis": "x",
         "y": [
          0,
          0.1397597201570749,
          0.1397597201570749,
          0
         ],
         "yaxis": "y"
        },
        {
         "hoverinfo": "text",
         "marker": {
          "color": "rgb(0,116,217)"
         },
         "mode": "lines",
         "type": "scatter",
         "x": [
          75,
          75,
          90,
          90
         ],
         "xaxis": "x",
         "y": [
          0,
          0.7064096921199917,
          0.7064096921199917,
          0.1397597201570749
         ],
         "yaxis": "y"
        },
        {
         "hoverinfo": "text",
         "marker": {
          "color": "rgb(0,116,217)"
         },
         "mode": "lines",
         "type": "scatter",
         "x": [
          105,
          105,
          115,
          115
         ],
         "xaxis": "x",
         "y": [
          0,
          0.32601940729911566,
          0.32601940729911566,
          0
         ],
         "yaxis": "y"
        },
        {
         "hoverinfo": "text",
         "marker": {
          "color": "rgb(0,116,217)"
         },
         "mode": "lines",
         "type": "scatter",
         "x": [
          145,
          145,
          155,
          155
         ],
         "xaxis": "x",
         "y": [
          0,
          0.1685905140421089,
          0.1685905140421089,
          0
         ],
         "yaxis": "y"
        },
        {
         "hoverinfo": "text",
         "marker": {
          "color": "rgb(0,116,217)"
         },
         "mode": "lines",
         "type": "scatter",
         "x": [
          135,
          135,
          150,
          150
         ],
         "xaxis": "x",
         "y": [
          0,
          0.1962501699168359,
          0.1962501699168359,
          0.1685905140421089
         ],
         "yaxis": "y"
        },
        {
         "hoverinfo": "text",
         "marker": {
          "color": "rgb(0,116,217)"
         },
         "mode": "lines",
         "type": "scatter",
         "x": [
          125,
          125,
          142.5,
          142.5
         ],
         "xaxis": "x",
         "y": [
          0,
          0.33339670250867187,
          0.33339670250867187,
          0.1962501699168359
         ],
         "yaxis": "y"
        },
        {
         "hoverinfo": "text",
         "marker": {
          "color": "rgb(0,116,217)"
         },
         "mode": "lines",
         "type": "scatter",
         "x": [
          110,
          110,
          133.75,
          133.75
         ],
         "xaxis": "x",
         "y": [
          0.32601940729911566,
          0.7016522439728983,
          0.7016522439728983,
          0.33339670250867187
         ],
         "yaxis": "y"
        },
        {
         "hoverinfo": "text",
         "marker": {
          "color": "rgb(0,116,217)"
         },
         "mode": "lines",
         "type": "scatter",
         "x": [
          165,
          165,
          175,
          175
         ],
         "xaxis": "x",
         "y": [
          0,
          0.051397412293108534,
          0.051397412293108534,
          0
         ],
         "yaxis": "y"
        },
        {
         "hoverinfo": "text",
         "marker": {
          "color": "rgb(0,116,217)"
         },
         "mode": "lines",
         "type": "scatter",
         "x": [
          185,
          185,
          195,
          195
         ],
         "xaxis": "x",
         "y": [
          0,
          0.09410402468181762,
          0.09410402468181762,
          0
         ],
         "yaxis": "y"
        },
        {
         "hoverinfo": "text",
         "marker": {
          "color": "rgb(0,116,217)"
         },
         "mode": "lines",
         "type": "scatter",
         "x": [
          170,
          170,
          190,
          190
         ],
         "xaxis": "x",
         "y": [
          0.051397412293108534,
          0.2331842757245655,
          0.2331842757245655,
          0.09410402468181762
         ],
         "yaxis": "y"
        },
        {
         "hoverinfo": "text",
         "marker": {
          "color": "rgb(0,116,217)"
         },
         "mode": "lines",
         "type": "scatter",
         "x": [
          215,
          215,
          225,
          225
         ],
         "xaxis": "x",
         "y": [
          0,
          0.03437215474252744,
          0.03437215474252744,
          0
         ],
         "yaxis": "y"
        },
        {
         "hoverinfo": "text",
         "marker": {
          "color": "rgb(0,116,217)"
         },
         "mode": "lines",
         "type": "scatter",
         "x": [
          205,
          205,
          220,
          220
         ],
         "xaxis": "x",
         "y": [
          0,
          0.12422212395013334,
          0.12422212395013334,
          0.03437215474252744
         ],
         "yaxis": "y"
        },
        {
         "hoverinfo": "text",
         "marker": {
          "color": "rgb(0,116,217)"
         },
         "mode": "lines",
         "type": "scatter",
         "x": [
          255,
          255,
          265,
          265
         ],
         "xaxis": "x",
         "y": [
          0,
          0.05139741229310812,
          0.05139741229310812,
          0
         ],
         "yaxis": "y"
        },
        {
         "hoverinfo": "text",
         "marker": {
          "color": "rgb(0,116,217)"
         },
         "mode": "lines",
         "type": "scatter",
         "x": [
          245,
          245,
          260,
          260
         ],
         "xaxis": "x",
         "y": [
          0,
          0.13615265946754657,
          0.13615265946754657,
          0.05139741229310812
         ],
         "yaxis": "y"
        },
        {
         "hoverinfo": "text",
         "marker": {
          "color": "rgb(0,116,217)"
         },
         "mode": "lines",
         "type": "scatter",
         "x": [
          235,
          235,
          252.5,
          252.5
         ],
         "xaxis": "x",
         "y": [
          0,
          0.17403345329248499,
          0.17403345329248499,
          0.13615265946754657
         ],
         "yaxis": "y"
        },
        {
         "hoverinfo": "text",
         "marker": {
          "color": "rgb(0,116,217)"
         },
         "mode": "lines",
         "type": "scatter",
         "x": [
          212.5,
          212.5,
          243.75,
          243.75
         ],
         "xaxis": "x",
         "y": [
          0.12422212395013334,
          0.39640032045971707,
          0.39640032045971707,
          0.17403345329248499
         ],
         "yaxis": "y"
        },
        {
         "hoverinfo": "text",
         "marker": {
          "color": "rgb(0,116,217)"
         },
         "mode": "lines",
         "type": "scatter",
         "x": [
          180,
          180,
          228.125,
          228.125
         ],
         "xaxis": "x",
         "y": [
          0.2331842757245655,
          0.715640078452767,
          0.715640078452767,
          0.39640032045971707
         ],
         "yaxis": "y"
        },
        {
         "hoverinfo": "text",
         "marker": {
          "color": "rgb(0,116,217)"
         },
         "mode": "lines",
         "type": "scatter",
         "x": [
          285,
          285,
          295,
          295
         ],
         "xaxis": "x",
         "y": [
          0,
          0.04280635802071525,
          0.04280635802071525,
          0
         ],
         "yaxis": "y"
        },
        {
         "hoverinfo": "text",
         "marker": {
          "color": "rgb(0,116,217)"
         },
         "mode": "lines",
         "type": "scatter",
         "x": [
          305,
          305,
          315,
          315
         ],
         "xaxis": "x",
         "y": [
          0,
          0.06306517628686374,
          0.06306517628686374,
          0
         ],
         "yaxis": "y"
        },
        {
         "hoverinfo": "text",
         "marker": {
          "color": "rgb(0,116,217)"
         },
         "mode": "lines",
         "type": "scatter",
         "x": [
          290,
          290,
          310,
          310
         ],
         "xaxis": "x",
         "y": [
          0.04280635802071525,
          0.18851634764369546,
          0.18851634764369546,
          0.06306517628686374
         ],
         "yaxis": "y"
        },
        {
         "hoverinfo": "text",
         "marker": {
          "color": "rgb(0,116,217)"
         },
         "mode": "lines",
         "type": "scatter",
         "x": [
          275,
          275,
          300,
          300
         ],
         "xaxis": "x",
         "y": [
          0,
          0.23451818445284775,
          0.23451818445284775,
          0.18851634764369546
         ],
         "yaxis": "y"
        },
        {
         "hoverinfo": "text",
         "marker": {
          "color": "rgb(0,116,217)"
         },
         "mode": "lines",
         "type": "scatter",
         "x": [
          335,
          335,
          345,
          345
         ],
         "xaxis": "x",
         "y": [
          0,
          0.14692610447676546,
          0.14692610447676546,
          0
         ],
         "yaxis": "y"
        },
        {
         "hoverinfo": "text",
         "marker": {
          "color": "rgb(0,116,217)"
         },
         "mode": "lines",
         "type": "scatter",
         "x": [
          325,
          325,
          340,
          340
         ],
         "xaxis": "x",
         "y": [
          0,
          0.31179555833794165,
          0.31179555833794165,
          0.14692610447676546
         ],
         "yaxis": "y"
        },
        {
         "hoverinfo": "text",
         "marker": {
          "color": "rgb(0,116,217)"
         },
         "mode": "lines",
         "type": "scatter",
         "x": [
          375,
          375,
          385,
          385
         ],
         "xaxis": "x",
         "y": [
          0,
          0.13710992661168858,
          0.13710992661168858,
          0
         ],
         "yaxis": "y"
        },
        {
         "hoverinfo": "text",
         "marker": {
          "color": "rgb(0,116,217)"
         },
         "mode": "lines",
         "type": "scatter",
         "x": [
          365,
          365,
          380,
          380
         ],
         "xaxis": "x",
         "y": [
          0,
          0.32785699012283254,
          0.32785699012283254,
          0.13710992661168858
         ],
         "yaxis": "y"
        },
        {
         "hoverinfo": "text",
         "marker": {
          "color": "rgb(0,116,217)"
         },
         "mode": "lines",
         "type": "scatter",
         "x": [
          355,
          355,
          372.5,
          372.5
         ],
         "xaxis": "x",
         "y": [
          0,
          0.401929689613317,
          0.401929689613317,
          0.32785699012283254
         ],
         "yaxis": "y"
        },
        {
         "hoverinfo": "text",
         "marker": {
          "color": "rgb(0,116,217)"
         },
         "mode": "lines",
         "type": "scatter",
         "x": [
          332.5,
          332.5,
          363.75,
          363.75
         ],
         "xaxis": "x",
         "y": [
          0.31179555833794165,
          0.6189575064916499,
          0.6189575064916499,
          0.401929689613317
         ],
         "yaxis": "y"
        },
        {
         "hoverinfo": "text",
         "marker": {
          "color": "rgb(0,116,217)"
         },
         "mode": "lines",
         "type": "scatter",
         "x": [
          287.5,
          287.5,
          348.125,
          348.125
         ],
         "xaxis": "x",
         "y": [
          0.23451818445284775,
          0.9393161026282291,
          0.9393161026282291,
          0.6189575064916499
         ],
         "yaxis": "y"
        },
        {
         "hoverinfo": "text",
         "marker": {
          "color": "rgb(0,116,217)"
         },
         "mode": "lines",
         "type": "scatter",
         "x": [
          204.0625,
          204.0625,
          317.8125,
          317.8125
         ],
         "xaxis": "x",
         "y": [
          0.715640078452767,
          0.9654223427983328,
          0.9654223427983328,
          0.9393161026282291
         ],
         "yaxis": "y"
        },
        {
         "hoverinfo": "text",
         "marker": {
          "color": "rgb(0,116,217)"
         },
         "mode": "lines",
         "type": "scatter",
         "x": [
          121.875,
          121.875,
          260.9375,
          260.9375
         ],
         "xaxis": "x",
         "y": [
          0.7016522439728983,
          1.611553563162023,
          1.611553563162023,
          0.9654223427983328
         ],
         "yaxis": "y"
        },
        {
         "hoverinfo": "text",
         "marker": {
          "color": "rgb(0,116,217)"
         },
         "mode": "lines",
         "type": "scatter",
         "x": [
          82.5,
          82.5,
          191.40625,
          191.40625
         ],
         "xaxis": "x",
         "y": [
          0.7064096921199917,
          2.74371448228745,
          2.74371448228745,
          1.611553563162023
         ],
         "yaxis": "y"
        },
        {
         "hoverinfo": "text",
         "marker": {
          "color": "rgb(0,116,217)"
         },
         "mode": "lines",
         "type": "scatter",
         "x": [
          21.25,
          21.25,
          136.953125,
          136.953125
         ],
         "xaxis": "x",
         "y": [
          1.2353990195988576,
          3.0024144315110615,
          3.0024144315110615,
          2.74371448228745
         ],
         "yaxis": "y"
        },
        {
         "hoverinfo": "text",
         "marker": {
          "color": "rgb(0,116,217)"
         },
         "mode": "lines",
         "type": "scatter",
         "x": [
          415,
          415,
          425,
          425
         ],
         "xaxis": "x",
         "y": [
          0,
          0.3842101223880748,
          0.3842101223880748,
          0
         ],
         "yaxis": "y"
        },
        {
         "hoverinfo": "text",
         "marker": {
          "color": "rgb(0,116,217)"
         },
         "mode": "lines",
         "type": "scatter",
         "x": [
          405,
          405,
          420,
          420
         ],
         "xaxis": "x",
         "y": [
          0,
          0.4204342005618244,
          0.4204342005618244,
          0.3842101223880748
         ],
         "yaxis": "y"
        },
        {
         "hoverinfo": "text",
         "marker": {
          "color": "rgb(0,116,217)"
         },
         "mode": "lines",
         "type": "scatter",
         "x": [
          395,
          395,
          412.5,
          412.5
         ],
         "xaxis": "x",
         "y": [
          0,
          0.9624508321318382,
          0.9624508321318382,
          0.4204342005618244
         ],
         "yaxis": "y"
        },
        {
         "hoverinfo": "text",
         "marker": {
          "color": "rgb(0,116,217)"
         },
         "mode": "lines",
         "type": "scatter",
         "x": [
          435,
          435,
          445,
          445
         ],
         "xaxis": "x",
         "y": [
          0,
          0.04196686728486643,
          0.04196686728486643,
          0
         ],
         "yaxis": "y"
        },
        {
         "hoverinfo": "text",
         "marker": {
          "color": "rgb(0,116,217)"
         },
         "mode": "lines",
         "type": "scatter",
         "x": [
          455,
          455,
          465,
          465
         ],
         "xaxis": "x",
         "y": [
          0,
          0.07630648304882541,
          0.07630648304882541,
          0
         ],
         "yaxis": "y"
        },
        {
         "hoverinfo": "text",
         "marker": {
          "color": "rgb(0,116,217)"
         },
         "mode": "lines",
         "type": "scatter",
         "x": [
          475,
          475,
          485,
          485
         ],
         "xaxis": "x",
         "y": [
          0,
          0.1052370812647477,
          0.1052370812647477,
          0
         ],
         "yaxis": "y"
        },
        {
         "hoverinfo": "text",
         "marker": {
          "color": "rgb(0,116,217)"
         },
         "mode": "lines",
         "type": "scatter",
         "x": [
          460,
          460,
          480,
          480
         ],
         "xaxis": "x",
         "y": [
          0.07630648304882541,
          0.23028186877490886,
          0.23028186877490886,
          0.1052370812647477
         ],
         "yaxis": "y"
        },
        {
         "hoverinfo": "text",
         "marker": {
          "color": "rgb(0,116,217)"
         },
         "mode": "lines",
         "type": "scatter",
         "x": [
          440,
          440,
          470,
          470
         ],
         "xaxis": "x",
         "y": [
          0.04196686728486643,
          0.2654534380697446,
          0.2654534380697446,
          0.23028186877490886
         ],
         "yaxis": "y"
        },
        {
         "hoverinfo": "text",
         "marker": {
          "color": "rgb(0,116,217)"
         },
         "mode": "lines",
         "type": "scatter",
         "x": [
          505,
          505,
          515,
          515
         ],
         "xaxis": "x",
         "y": [
          0,
          0.13230071340336075,
          0.13230071340336075,
          0
         ],
         "yaxis": "y"
        },
        {
         "hoverinfo": "text",
         "marker": {
          "color": "rgb(0,116,217)"
         },
         "mode": "lines",
         "type": "scatter",
         "x": [
          495,
          495,
          510,
          510
         ],
         "xaxis": "x",
         "y": [
          0,
          0.319547004229206,
          0.319547004229206,
          0.13230071340336075
         ],
         "yaxis": "y"
        },
        {
         "hoverinfo": "text",
         "marker": {
          "color": "rgb(0,116,217)"
         },
         "mode": "lines",
         "type": "scatter",
         "x": [
          455,
          455,
          502.5,
          502.5
         ],
         "xaxis": "x",
         "y": [
          0.2654534380697446,
          0.5817597519203279,
          0.5817597519203279,
          0.319547004229206
         ],
         "yaxis": "y"
        },
        {
         "hoverinfo": "text",
         "marker": {
          "color": "rgb(0,116,217)"
         },
         "mode": "lines",
         "type": "scatter",
         "x": [
          545,
          545,
          555,
          555
         ],
         "xaxis": "x",
         "y": [
          0,
          0.0436528547251196,
          0.0436528547251196,
          0
         ],
         "yaxis": "y"
        },
        {
         "hoverinfo": "text",
         "marker": {
          "color": "rgb(0,116,217)"
         },
         "mode": "lines",
         "type": "scatter",
         "x": [
          565,
          565,
          575,
          575
         ],
         "xaxis": "x",
         "y": [
          0,
          0.043652854725122765,
          0.043652854725122765,
          0
         ],
         "yaxis": "y"
        },
        {
         "hoverinfo": "text",
         "marker": {
          "color": "rgb(0,116,217)"
         },
         "mode": "lines",
         "type": "scatter",
         "x": [
          550,
          550,
          570,
          570
         ],
         "xaxis": "x",
         "y": [
          0.0436528547251196,
          0.1451309789534474,
          0.1451309789534474,
          0.043652854725122765
         ],
         "yaxis": "y"
        },
        {
         "hoverinfo": "text",
         "marker": {
          "color": "rgb(0,116,217)"
         },
         "mode": "lines",
         "type": "scatter",
         "x": [
          535,
          535,
          560,
          560
         ],
         "xaxis": "x",
         "y": [
          0,
          0.2553227356318859,
          0.2553227356318859,
          0.1451309789534474
         ],
         "yaxis": "y"
        },
        {
         "hoverinfo": "text",
         "marker": {
          "color": "rgb(0,116,217)"
         },
         "mode": "lines",
         "type": "scatter",
         "x": [
          605,
          605,
          615,
          615
         ],
         "xaxis": "x",
         "y": [
          0,
          0.08337577355010806,
          0.08337577355010806,
          0
         ],
         "yaxis": "y"
        },
        {
         "hoverinfo": "text",
         "marker": {
          "color": "rgb(0,116,217)"
         },
         "mode": "lines",
         "type": "scatter",
         "x": [
          595,
          595,
          610,
          610
         ],
         "xaxis": "x",
         "y": [
          0,
          0.14223637132454744,
          0.14223637132454744,
          0.08337577355010806
         ],
         "yaxis": "y"
        },
        {
         "hoverinfo": "text",
         "marker": {
          "color": "rgb(0,116,217)"
         },
         "mode": "lines",
         "type": "scatter",
         "x": [
          585,
          585,
          602.5,
          602.5
         ],
         "xaxis": "x",
         "y": [
          0,
          0.32030950294232563,
          0.32030950294232563,
          0.14223637132454744
         ],
         "yaxis": "y"
        },
        {
         "hoverinfo": "text",
         "marker": {
          "color": "rgb(0,116,217)"
         },
         "mode": "lines",
         "type": "scatter",
         "x": [
          547.5,
          547.5,
          593.75,
          593.75
         ],
         "xaxis": "x",
         "y": [
          0.2553227356318859,
          0.6022795159216783,
          0.6022795159216783,
          0.32030950294232563
         ],
         "yaxis": "y"
        },
        {
         "hoverinfo": "text",
         "marker": {
          "color": "rgb(0,116,217)"
         },
         "mode": "lines",
         "type": "scatter",
         "x": [
          645,
          645,
          655,
          655
         ],
         "xaxis": "x",
         "y": [
          0,
          0.05331907673260634,
          0.05331907673260634,
          0
         ],
         "yaxis": "y"
        },
        {
         "hoverinfo": "text",
         "marker": {
          "color": "rgb(0,116,217)"
         },
         "mode": "lines",
         "type": "scatter",
         "x": [
          635,
          635,
          650,
          650
         ],
         "xaxis": "x",
         "y": [
          0,
          0.12145780184386201,
          0.12145780184386201,
          0.05331907673260634
         ],
         "yaxis": "y"
        },
        {
         "hoverinfo": "text",
         "marker": {
          "color": "rgb(0,116,217)"
         },
         "mode": "lines",
         "type": "scatter",
         "x": [
          625,
          625,
          642.5,
          642.5
         ],
         "xaxis": "x",
         "y": [
          0,
          0.39646197580820514,
          0.39646197580820514,
          0.12145780184386201
         ],
         "yaxis": "y"
        },
        {
         "hoverinfo": "text",
         "marker": {
          "color": "rgb(0,116,217)"
         },
         "mode": "lines",
         "type": "scatter",
         "x": [
          665,
          665,
          675,
          675
         ],
         "xaxis": "x",
         "y": [
          0,
          0.21663725311855747,
          0.21663725311855747,
          0
         ],
         "yaxis": "y"
        },
        {
         "hoverinfo": "text",
         "marker": {
          "color": "rgb(0,116,217)"
         },
         "mode": "lines",
         "type": "scatter",
         "x": [
          705,
          705,
          715,
          715
         ],
         "xaxis": "x",
         "y": [
          0,
          0.0856127160414297,
          0.0856127160414297,
          0
         ],
         "yaxis": "y"
        },
        {
         "hoverinfo": "text",
         "marker": {
          "color": "rgb(0,116,217)"
         },
         "mode": "lines",
         "type": "scatter",
         "x": [
          695,
          695,
          710,
          710
         ],
         "xaxis": "x",
         "y": [
          0,
          0.12913046641490072,
          0.12913046641490072,
          0.0856127160414297
         ],
         "yaxis": "y"
        },
        {
         "hoverinfo": "text",
         "marker": {
          "color": "rgb(0,116,217)"
         },
         "mode": "lines",
         "type": "scatter",
         "x": [
          685,
          685,
          702.5,
          702.5
         ],
         "xaxis": "x",
         "y": [
          0,
          0.27356062290998845,
          0.27356062290998845,
          0.12913046641490072
         ],
         "yaxis": "y"
        },
        {
         "hoverinfo": "text",
         "marker": {
          "color": "rgb(0,116,217)"
         },
         "mode": "lines",
         "type": "scatter",
         "x": [
          670,
          670,
          693.75,
          693.75
         ],
         "xaxis": "x",
         "y": [
          0.21663725311855747,
          0.4325489512436779,
          0.4325489512436779,
          0.27356062290998845
         ],
         "yaxis": "y"
        },
        {
         "hoverinfo": "text",
         "marker": {
          "color": "rgb(0,116,217)"
         },
         "mode": "lines",
         "type": "scatter",
         "x": [
          633.75,
          633.75,
          681.875,
          681.875
         ],
         "xaxis": "x",
         "y": [
          0.39646197580820514,
          0.6261276907800091,
          0.6261276907800091,
          0.4325489512436779
         ],
         "yaxis": "y"
        },
        {
         "hoverinfo": "text",
         "marker": {
          "color": "rgb(0,116,217)"
         },
         "mode": "lines",
         "type": "scatter",
         "x": [
          570.625,
          570.625,
          657.8125,
          657.8125
         ],
         "xaxis": "x",
         "y": [
          0.6022795159216783,
          0.8851341628602787,
          0.8851341628602787,
          0.6261276907800091
         ],
         "yaxis": "y"
        },
        {
         "hoverinfo": "text",
         "marker": {
          "color": "rgb(0,116,217)"
         },
         "mode": "lines",
         "type": "scatter",
         "x": [
          525,
          525,
          614.21875,
          614.21875
         ],
         "xaxis": "x",
         "y": [
          0,
          1.0276987650236054,
          1.0276987650236054,
          0.8851341628602787
         ],
         "yaxis": "y"
        },
        {
         "hoverinfo": "text",
         "marker": {
          "color": "rgb(0,116,217)"
         },
         "mode": "lines",
         "type": "scatter",
         "x": [
          478.75,
          478.75,
          569.609375,
          569.609375
         ],
         "xaxis": "x",
         "y": [
          0.5817597519203279,
          1.7086794888692802,
          1.7086794888692802,
          1.0276987650236054
         ],
         "yaxis": "y"
        },
        {
         "hoverinfo": "text",
         "marker": {
          "color": "rgb(0,116,217)"
         },
         "mode": "lines",
         "type": "scatter",
         "x": [
          403.75,
          403.75,
          524.1796875,
          524.1796875
         ],
         "xaxis": "x",
         "y": [
          0.9624508321318382,
          2.9069888715125742,
          2.9069888715125742,
          1.7086794888692802
         ],
         "yaxis": "y"
        },
        {
         "hoverinfo": "text",
         "marker": {
          "color": "rgb(0,116,217)"
         },
         "mode": "lines",
         "type": "scatter",
         "x": [
          745,
          745,
          755,
          755
         ],
         "xaxis": "x",
         "y": [
          0,
          0.21134902766696695,
          0.21134902766696695,
          0
         ],
         "yaxis": "y"
        },
        {
         "hoverinfo": "text",
         "marker": {
          "color": "rgb(0,116,217)"
         },
         "mode": "lines",
         "type": "scatter",
         "x": [
          735,
          735,
          750,
          750
         ],
         "xaxis": "x",
         "y": [
          0,
          0.3365510487865414,
          0.3365510487865414,
          0.21134902766696695
         ],
         "yaxis": "y"
        },
        {
         "hoverinfo": "text",
         "marker": {
          "color": "rgb(0,116,217)"
         },
         "mode": "lines",
         "type": "scatter",
         "x": [
          785,
          785,
          795,
          795
         ],
         "xaxis": "x",
         "y": [
          0,
          0.05331907673260762,
          0.05331907673260762,
          0
         ],
         "yaxis": "y"
        },
        {
         "hoverinfo": "text",
         "marker": {
          "color": "rgb(0,116,217)"
         },
         "mode": "lines",
         "type": "scatter",
         "x": [
          775,
          775,
          790,
          790
         ],
         "xaxis": "x",
         "y": [
          0,
          0.13784829338354526,
          0.13784829338354526,
          0.05331907673260762
         ],
         "yaxis": "y"
        },
        {
         "hoverinfo": "text",
         "marker": {
          "color": "rgb(0,116,217)"
         },
         "mode": "lines",
         "type": "scatter",
         "x": [
          765,
          765,
          782.5,
          782.5
         ],
         "xaxis": "x",
         "y": [
          0,
          0.32070277540188236,
          0.32070277540188236,
          0.13784829338354526
         ],
         "yaxis": "y"
        },
        {
         "hoverinfo": "text",
         "marker": {
          "color": "rgb(0,116,217)"
         },
         "mode": "lines",
         "type": "scatter",
         "x": [
          815,
          815,
          825,
          825
         ],
         "xaxis": "x",
         "y": [
          0,
          0.03815324152441201,
          0.03815324152441201,
          0
         ],
         "yaxis": "y"
        },
        {
         "hoverinfo": "text",
         "marker": {
          "color": "rgb(0,116,217)"
         },
         "mode": "lines",
         "type": "scatter",
         "x": [
          805,
          805,
          820,
          820
         ],
         "xaxis": "x",
         "y": [
          0,
          0.1451309789534475,
          0.1451309789534475,
          0.03815324152441201
         ],
         "yaxis": "y"
        },
        {
         "hoverinfo": "text",
         "marker": {
          "color": "rgb(0,116,217)"
         },
         "mode": "lines",
         "type": "scatter",
         "x": [
          855,
          855,
          865,
          865
         ],
         "xaxis": "x",
         "y": [
          0,
          0,
          0,
          0
         ],
         "yaxis": "y"
        },
        {
         "hoverinfo": "text",
         "marker": {
          "color": "rgb(0,116,217)"
         },
         "mode": "lines",
         "type": "scatter",
         "x": [
          845,
          845,
          860,
          860
         ],
         "xaxis": "x",
         "y": [
          0,
          0,
          0,
          0
         ],
         "yaxis": "y"
        },
        {
         "hoverinfo": "text",
         "marker": {
          "color": "rgb(0,116,217)"
         },
         "mode": "lines",
         "type": "scatter",
         "x": [
          835,
          835,
          852.5,
          852.5
         ],
         "xaxis": "x",
         "y": [
          0,
          0.05651285515586215,
          0.05651285515586215,
          0
         ],
         "yaxis": "y"
        },
        {
         "hoverinfo": "text",
         "marker": {
          "color": "rgb(0,116,217)"
         },
         "mode": "lines",
         "type": "scatter",
         "x": [
          875,
          875,
          885,
          885
         ],
         "xaxis": "x",
         "y": [
          0,
          0.1559086431987803,
          0.1559086431987803,
          0
         ],
         "yaxis": "y"
        },
        {
         "hoverinfo": "text",
         "marker": {
          "color": "rgb(0,116,217)"
         },
         "mode": "lines",
         "type": "scatter",
         "x": [
          843.75,
          843.75,
          880,
          880
         ],
         "xaxis": "x",
         "y": [
          0.05651285515586215,
          0.2628844414641437,
          0.2628844414641437,
          0.1559086431987803
         ],
         "yaxis": "y"
        },
        {
         "hoverinfo": "text",
         "marker": {
          "color": "rgb(0,116,217)"
         },
         "mode": "lines",
         "type": "scatter",
         "x": [
          812.5,
          812.5,
          861.875,
          861.875
         ],
         "xaxis": "x",
         "y": [
          0.1451309789534475,
          0.34869336804184514,
          0.34869336804184514,
          0.2628844414641437
         ],
         "yaxis": "y"
        },
        {
         "hoverinfo": "text",
         "marker": {
          "color": "rgb(0,116,217)"
         },
         "mode": "lines",
         "type": "scatter",
         "x": [
          773.75,
          773.75,
          837.1875,
          837.1875
         ],
         "xaxis": "x",
         "y": [
          0.32070277540188236,
          0.6202520639239193,
          0.6202520639239193,
          0.34869336804184514
         ],
         "yaxis": "y"
        },
        {
         "hoverinfo": "text",
         "marker": {
          "color": "rgb(0,116,217)"
         },
         "mode": "lines",
         "type": "scatter",
         "x": [
          742.5,
          742.5,
          805.46875,
          805.46875
         ],
         "xaxis": "x",
         "y": [
          0.3365510487865414,
          0.783690791910665,
          0.783690791910665,
          0.6202520639239193
         ],
         "yaxis": "y"
        },
        {
         "hoverinfo": "text",
         "marker": {
          "color": "rgb(0,116,217)"
         },
         "mode": "lines",
         "type": "scatter",
         "x": [
          725,
          725,
          773.984375,
          773.984375
         ],
         "xaxis": "x",
         "y": [
          0,
          2.069589191890011,
          2.069589191890011,
          0.783690791910665
         ],
         "yaxis": "y"
        },
        {
         "hoverinfo": "text",
         "marker": {
          "color": "rgb(0,116,217)"
         },
         "mode": "lines",
         "type": "scatter",
         "x": [
          915,
          915,
          925,
          925
         ],
         "xaxis": "x",
         "y": [
          0,
          0.20980226479244973,
          0.20980226479244973,
          0
         ],
         "yaxis": "y"
        },
        {
         "hoverinfo": "text",
         "marker": {
          "color": "rgb(0,116,217)"
         },
         "mode": "lines",
         "type": "scatter",
         "x": [
          905,
          905,
          920,
          920
         ],
         "xaxis": "x",
         "y": [
          0,
          0.4856794131982546,
          0.4856794131982546,
          0.20980226479244973
         ],
         "yaxis": "y"
        },
        {
         "hoverinfo": "text",
         "marker": {
          "color": "rgb(0,116,217)"
         },
         "mode": "lines",
         "type": "scatter",
         "x": [
          945,
          945,
          955,
          955
         ],
         "xaxis": "x",
         "y": [
          0,
          0.1549982368970947,
          0.1549982368970947,
          0
         ],
         "yaxis": "y"
        },
        {
         "hoverinfo": "text",
         "marker": {
          "color": "rgb(0,116,217)"
         },
         "mode": "lines",
         "type": "scatter",
         "x": [
          935,
          935,
          950,
          950
         ],
         "xaxis": "x",
         "y": [
          0,
          0.28722805212396574,
          0.28722805212396574,
          0.1549982368970947
         ],
         "yaxis": "y"
        },
        {
         "hoverinfo": "text",
         "marker": {
          "color": "rgb(0,116,217)"
         },
         "mode": "lines",
         "type": "scatter",
         "x": [
          965,
          965,
          975,
          975
         ],
         "xaxis": "x",
         "y": [
          0,
          0.10786210118850593,
          0.10786210118850593,
          0
         ],
         "yaxis": "y"
        },
        {
         "hoverinfo": "text",
         "marker": {
          "color": "rgb(0,116,217)"
         },
         "mode": "lines",
         "type": "scatter",
         "x": [
          985,
          985,
          995,
          995
         ],
         "xaxis": "x",
         "y": [
          0,
          0.12145780184386165,
          0.12145780184386165,
          0
         ],
         "yaxis": "y"
        },
        {
         "hoverinfo": "text",
         "marker": {
          "color": "rgb(0,116,217)"
         },
         "mode": "lines",
         "type": "scatter",
         "x": [
          970,
          970,
          990,
          990
         ],
         "xaxis": "x",
         "y": [
          0.10786210118850593,
          0.3572264654034567,
          0.3572264654034567,
          0.12145780184386165
         ],
         "yaxis": "y"
        },
        {
         "hoverinfo": "text",
         "marker": {
          "color": "rgb(0,116,217)"
         },
         "mode": "lines",
         "type": "scatter",
         "x": [
          942.5,
          942.5,
          980,
          980
         ],
         "xaxis": "x",
         "y": [
          0.28722805212396574,
          0.6133451557743755,
          0.6133451557743755,
          0.3572264654034567
         ],
         "yaxis": "y"
        },
        {
         "hoverinfo": "text",
         "marker": {
          "color": "rgb(0,116,217)"
         },
         "mode": "lines",
         "type": "scatter",
         "x": [
          912.5,
          912.5,
          961.25,
          961.25
         ],
         "xaxis": "x",
         "y": [
          0.4856794131982546,
          1.0522663473970164,
          1.0522663473970164,
          0.6133451557743755
         ],
         "yaxis": "y"
        },
        {
         "hoverinfo": "text",
         "marker": {
          "color": "rgb(0,116,217)"
         },
         "mode": "lines",
         "type": "scatter",
         "x": [
          895,
          895,
          936.875,
          936.875
         ],
         "xaxis": "x",
         "y": [
          0,
          1.3872049254999175,
          1.3872049254999175,
          1.0522663473970164
         ],
         "yaxis": "y"
        },
        {
         "hoverinfo": "text",
         "marker": {
          "color": "rgb(0,116,217)"
         },
         "mode": "lines",
         "type": "scatter",
         "x": [
          1035,
          1035,
          1045,
          1045
         ],
         "xaxis": "x",
         "y": [
          0,
          0.011445559135701154,
          0.011445559135701154,
          0
         ],
         "yaxis": "y"
        },
        {
         "hoverinfo": "text",
         "marker": {
          "color": "rgb(0,116,217)"
         },
         "mode": "lines",
         "type": "scatter",
         "x": [
          1025,
          1025,
          1040,
          1040
         ],
         "xaxis": "x",
         "y": [
          0,
          0.06214780539363235,
          0.06214780539363235,
          0.011445559135701154
         ],
         "yaxis": "y"
        },
        {
         "hoverinfo": "text",
         "marker": {
          "color": "rgb(0,116,217)"
         },
         "mode": "lines",
         "type": "scatter",
         "x": [
          1015,
          1015,
          1032.5,
          1032.5
         ],
         "xaxis": "x",
         "y": [
          0,
          0.10690092513396082,
          0.10690092513396082,
          0.06214780539363235
         ],
         "yaxis": "y"
        },
        {
         "hoverinfo": "text",
         "marker": {
          "color": "rgb(0,116,217)"
         },
         "mode": "lines",
         "type": "scatter",
         "x": [
          1005,
          1005,
          1023.75,
          1023.75
         ],
         "xaxis": "x",
         "y": [
          0,
          0.2861467897714475,
          0.2861467897714475,
          0.10690092513396082
         ],
         "yaxis": "y"
        },
        {
         "hoverinfo": "text",
         "marker": {
          "color": "rgb(0,116,217)"
         },
         "mode": "lines",
         "type": "scatter",
         "x": [
          1055,
          1055,
          1065,
          1065
         ],
         "xaxis": "x",
         "y": [
          0,
          0.15701149474334053,
          0.15701149474334053,
          0
         ],
         "yaxis": "y"
        },
        {
         "hoverinfo": "text",
         "marker": {
          "color": "rgb(0,116,217)"
         },
         "mode": "lines",
         "type": "scatter",
         "x": [
          1075,
          1075,
          1085,
          1085
         ],
         "xaxis": "x",
         "y": [
          0,
          0.15995723019781913,
          0.15995723019781913,
          0
         ],
         "yaxis": "y"
        },
        {
         "hoverinfo": "text",
         "marker": {
          "color": "rgb(0,116,217)"
         },
         "mode": "lines",
         "type": "scatter",
         "x": [
          1095,
          1095,
          1105,
          1105
         ],
         "xaxis": "x",
         "y": [
          0,
          0.11942903646680648,
          0.11942903646680648,
          0
         ],
         "yaxis": "y"
        },
        {
         "hoverinfo": "text",
         "marker": {
          "color": "rgb(0,116,217)"
         },
         "mode": "lines",
         "type": "scatter",
         "x": [
          1125,
          1125,
          1135,
          1135
         ],
         "xaxis": "x",
         "y": [
          0,
          0.06740481035033671,
          0.06740481035033671,
          0
         ],
         "yaxis": "y"
        },
        {
         "hoverinfo": "text",
         "marker": {
          "color": "rgb(0,116,217)"
         },
         "mode": "lines",
         "type": "scatter",
         "x": [
          1115,
          1115,
          1130,
          1130
         ],
         "xaxis": "x",
         "y": [
          0,
          0.14674948296429446,
          0.14674948296429446,
          0.06740481035033671
         ],
         "yaxis": "y"
        },
        {
         "hoverinfo": "text",
         "marker": {
          "color": "rgb(0,116,217)"
         },
         "mode": "lines",
         "type": "scatter",
         "x": [
          1100,
          1100,
          1122.5,
          1122.5
         ],
         "xaxis": "x",
         "y": [
          0.11942903646680648,
          0.2548832241040137,
          0.2548832241040137,
          0.14674948296429446
         ],
         "yaxis": "y"
        },
        {
         "hoverinfo": "text",
         "marker": {
          "color": "rgb(0,116,217)"
         },
         "mode": "lines",
         "type": "scatter",
         "x": [
          1080,
          1080,
          1111.25,
          1111.25
         ],
         "xaxis": "x",
         "y": [
          0.15995723019781913,
          0.3746918975833653,
          0.3746918975833653,
          0.2548832241040137
         ],
         "yaxis": "y"
        },
        {
         "hoverinfo": "text",
         "marker": {
          "color": "rgb(0,116,217)"
         },
         "mode": "lines",
         "type": "scatter",
         "x": [
          1060,
          1060,
          1095.625,
          1095.625
         ],
         "xaxis": "x",
         "y": [
          0.15701149474334053,
          0.46905317528730167,
          0.46905317528730167,
          0.3746918975833653
         ],
         "yaxis": "y"
        },
        {
         "hoverinfo": "text",
         "marker": {
          "color": "rgb(0,116,217)"
         },
         "mode": "lines",
         "type": "scatter",
         "x": [
          1014.375,
          1014.375,
          1077.8125,
          1077.8125
         ],
         "xaxis": "x",
         "y": [
          0.2861467897714475,
          0.7786186245181305,
          0.7786186245181305,
          0.46905317528730167
         ],
         "yaxis": "y"
        },
        {
         "hoverinfo": "text",
         "marker": {
          "color": "rgb(0,116,217)"
         },
         "mode": "lines",
         "type": "scatter",
         "x": [
          1155,
          1155,
          1165,
          1165
         ],
         "xaxis": "x",
         "y": [
          0,
          0.043652854725123036,
          0.043652854725123036,
          0
         ],
         "yaxis": "y"
        },
        {
         "hoverinfo": "text",
         "marker": {
          "color": "rgb(0,116,217)"
         },
         "mode": "lines",
         "type": "scatter",
         "x": [
          1175,
          1175,
          1185,
          1185
         ],
         "xaxis": "x",
         "y": [
          0,
          0.0996803234322258,
          0.0996803234322258,
          0
         ],
         "yaxis": "y"
        },
        {
         "hoverinfo": "text",
         "marker": {
          "color": "rgb(0,116,217)"
         },
         "mode": "lines",
         "type": "scatter",
         "x": [
          1160,
          1160,
          1180,
          1180
         ],
         "xaxis": "x",
         "y": [
          0.043652854725123036,
          0.24610693122596564,
          0.24610693122596564,
          0.0996803234322258
         ],
         "yaxis": "y"
        },
        {
         "hoverinfo": "text",
         "marker": {
          "color": "rgb(0,116,217)"
         },
         "mode": "lines",
         "type": "scatter",
         "x": [
          1145,
          1145,
          1170,
          1170
         ],
         "xaxis": "x",
         "y": [
          0,
          0.3000016892075773,
          0.3000016892075773,
          0.24610693122596564
         ],
         "yaxis": "y"
        },
        {
         "hoverinfo": "text",
         "marker": {
          "color": "rgb(0,116,217)"
         },
         "mode": "lines",
         "type": "scatter",
         "x": [
          1195,
          1195,
          1205,
          1205
         ],
         "xaxis": "x",
         "y": [
          0,
          0.13230071340336053,
          0.13230071340336053,
          0
         ],
         "yaxis": "y"
        },
        {
         "hoverinfo": "text",
         "marker": {
          "color": "rgb(0,116,217)"
         },
         "mode": "lines",
         "type": "scatter",
         "x": [
          1225,
          1225,
          1235,
          1235
         ],
         "xaxis": "x",
         "y": [
          0,
          0.08393373456973255,
          0.08393373456973255,
          0
         ],
         "yaxis": "y"
        },
        {
         "hoverinfo": "text",
         "marker": {
          "color": "rgb(0,116,217)"
         },
         "mode": "lines",
         "type": "scatter",
         "x": [
          1215,
          1215,
          1230,
          1230
         ],
         "xaxis": "x",
         "y": [
          0,
          0.1441565193195444,
          0.1441565193195444,
          0.08393373456973255
         ],
         "yaxis": "y"
        },
        {
         "hoverinfo": "text",
         "marker": {
          "color": "rgb(0,116,217)"
         },
         "mode": "lines",
         "type": "scatter",
         "x": [
          1200,
          1200,
          1222.5,
          1222.5
         ],
         "xaxis": "x",
         "y": [
          0.13230071340336053,
          0.30537947027423756,
          0.30537947027423756,
          0.1441565193195444
         ],
         "yaxis": "y"
        },
        {
         "hoverinfo": "text",
         "marker": {
          "color": "rgb(0,116,217)"
         },
         "mode": "lines",
         "type": "scatter",
         "x": [
          1245,
          1245,
          1255,
          1255
         ],
         "xaxis": "x",
         "y": [
          0,
          0.05919022499216734,
          0.05919022499216734,
          0
         ],
         "yaxis": "y"
        },
        {
         "hoverinfo": "text",
         "marker": {
          "color": "rgb(0,116,217)"
         },
         "mode": "lines",
         "type": "scatter",
         "x": [
          1265,
          1265,
          1275,
          1275
         ],
         "xaxis": "x",
         "y": [
          0,
          0.14271216373112114,
          0.14271216373112114,
          0
         ],
         "yaxis": "y"
        },
        {
         "hoverinfo": "text",
         "marker": {
          "color": "rgb(0,116,217)"
         },
         "mode": "lines",
         "type": "scatter",
         "x": [
          1250,
          1250,
          1270,
          1270
         ],
         "xaxis": "x",
         "y": [
          0.05919022499216734,
          0.3834212740664655,
          0.3834212740664655,
          0.14271216373112114
         ],
         "yaxis": "y"
        },
        {
         "hoverinfo": "text",
         "marker": {
          "color": "rgb(0,116,217)"
         },
         "mode": "lines",
         "type": "scatter",
         "x": [
          1211.25,
          1211.25,
          1260,
          1260
         ],
         "xaxis": "x",
         "y": [
          0.30537947027423756,
          0.6353698952974256,
          0.6353698952974256,
          0.3834212740664655
         ],
         "yaxis": "y"
        },
        {
         "hoverinfo": "text",
         "marker": {
          "color": "rgb(0,116,217)"
         },
         "mode": "lines",
         "type": "scatter",
         "x": [
          1157.5,
          1157.5,
          1235.625,
          1235.625
         ],
         "xaxis": "x",
         "y": [
          0.3000016892075773,
          0.9621511413218107,
          0.9621511413218107,
          0.6353698952974256
         ],
         "yaxis": "y"
        },
        {
         "hoverinfo": "text",
         "marker": {
          "color": "rgb(0,116,217)"
         },
         "mode": "lines",
         "type": "scatter",
         "x": [
          1046.09375,
          1046.09375,
          1196.5625,
          1196.5625
         ],
         "xaxis": "x",
         "y": [
          0.7786186245181305,
          1.5995512228369781,
          1.5995512228369781,
          0.9621511413218107
         ],
         "yaxis": "y"
        },
        {
         "hoverinfo": "text",
         "marker": {
          "color": "rgb(0,116,217)"
         },
         "mode": "lines",
         "type": "scatter",
         "x": [
          1295,
          1295,
          1305,
          1305
         ],
         "xaxis": "x",
         "y": [
          0,
          0.09268419554363212,
          0.09268419554363212,
          0
         ],
         "yaxis": "y"
        },
        {
         "hoverinfo": "text",
         "marker": {
          "color": "rgb(0,116,217)"
         },
         "mode": "lines",
         "type": "scatter",
         "x": [
          1285,
          1285,
          1300,
          1300
         ],
         "xaxis": "x",
         "y": [
          0,
          0.3914972780920591,
          0.3914972780920591,
          0.09268419554363212
         ],
         "yaxis": "y"
        },
        {
         "hoverinfo": "text",
         "marker": {
          "color": "rgb(0,116,217)"
         },
         "mode": "lines",
         "type": "scatter",
         "x": [
          1315,
          1315,
          1325,
          1325
         ],
         "xaxis": "x",
         "y": [
          0,
          0.10569741933109333,
          0.10569741933109333,
          0
         ],
         "yaxis": "y"
        },
        {
         "hoverinfo": "text",
         "marker": {
          "color": "rgb(0,116,217)"
         },
         "mode": "lines",
         "type": "scatter",
         "x": [
          1345,
          1345,
          1355,
          1355
         ],
         "xaxis": "x",
         "y": [
          0,
          0,
          0,
          0
         ],
         "yaxis": "y"
        },
        {
         "hoverinfo": "text",
         "marker": {
          "color": "rgb(0,116,217)"
         },
         "mode": "lines",
         "type": "scatter",
         "x": [
          1335,
          1335,
          1350,
          1350
         ],
         "xaxis": "x",
         "y": [
          0,
          0.12401589958459854,
          0.12401589958459854,
          0
         ],
         "yaxis": "y"
        },
        {
         "hoverinfo": "text",
         "marker": {
          "color": "rgb(0,116,217)"
         },
         "mode": "lines",
         "type": "scatter",
         "x": [
          1320,
          1320,
          1342.5,
          1342.5
         ],
         "xaxis": "x",
         "y": [
          0.10569741933109333,
          0.33239907488313664,
          0.33239907488313664,
          0.12401589958459854
         ],
         "yaxis": "y"
        },
        {
         "hoverinfo": "text",
         "marker": {
          "color": "rgb(0,116,217)"
         },
         "mode": "lines",
         "type": "scatter",
         "x": [
          1375,
          1375,
          1385,
          1385
         ],
         "xaxis": "x",
         "y": [
          0,
          0.2278630050661636,
          0.2278630050661636,
          0
         ],
         "yaxis": "y"
        },
        {
         "hoverinfo": "text",
         "marker": {
          "color": "rgb(0,116,217)"
         },
         "mode": "lines",
         "type": "scatter",
         "x": [
          1365,
          1365,
          1380,
          1380
         ],
         "xaxis": "x",
         "y": [
          0,
          0.40243904193663244,
          0.40243904193663244,
          0.2278630050661636
         ],
         "yaxis": "y"
        },
        {
         "hoverinfo": "text",
         "marker": {
          "color": "rgb(0,116,217)"
         },
         "mode": "lines",
         "type": "scatter",
         "x": [
          1331.25,
          1331.25,
          1372.5,
          1372.5
         ],
         "xaxis": "x",
         "y": [
          0.33239907488313664,
          0.673334262491893,
          0.673334262491893,
          0.40243904193663244
         ],
         "yaxis": "y"
        },
        {
         "hoverinfo": "text",
         "marker": {
          "color": "rgb(0,116,217)"
         },
         "mode": "lines",
         "type": "scatter",
         "x": [
          1405,
          1405,
          1415,
          1415
         ],
         "xaxis": "x",
         "y": [
          0,
          0.13593600206963508,
          0.13593600206963508,
          0
         ],
         "yaxis": "y"
        },
        {
         "hoverinfo": "text",
         "marker": {
          "color": "rgb(0,116,217)"
         },
         "mode": "lines",
         "type": "scatter",
         "x": [
          1395,
          1395,
          1410,
          1410
         ],
         "xaxis": "x",
         "y": [
          0,
          0.27614112215500225,
          0.27614112215500225,
          0.13593600206963508
         ],
         "yaxis": "y"
        },
        {
         "hoverinfo": "text",
         "marker": {
          "color": "rgb(0,116,217)"
         },
         "mode": "lines",
         "type": "scatter",
         "x": [
          1435,
          1435,
          1445,
          1445
         ],
         "xaxis": "x",
         "y": [
          0,
          0.06481686495779468,
          0.06481686495779468,
          0
         ],
         "yaxis": "y"
        },
        {
         "hoverinfo": "text",
         "marker": {
          "color": "rgb(0,116,217)"
         },
         "mode": "lines",
         "type": "scatter",
         "x": [
          1425,
          1425,
          1440,
          1440
         ],
         "xaxis": "x",
         "y": [
          0,
          0.14608658890461318,
          0.14608658890461318,
          0.06481686495779468
         ],
         "yaxis": "y"
        },
        {
         "hoverinfo": "text",
         "marker": {
          "color": "rgb(0,116,217)"
         },
         "mode": "lines",
         "type": "scatter",
         "x": [
          1455,
          1455,
          1465,
          1465
         ],
         "xaxis": "x",
         "y": [
          0,
          0.1873234129962432,
          0.1873234129962432,
          0
         ],
         "yaxis": "y"
        },
        {
         "hoverinfo": "text",
         "marker": {
          "color": "rgb(0,116,217)"
         },
         "mode": "lines",
         "type": "scatter",
         "x": [
          1432.5,
          1432.5,
          1460,
          1460
         ],
         "xaxis": "x",
         "y": [
          0.14608658890461318,
          0.4095164242046938,
          0.4095164242046938,
          0.1873234129962432
         ],
         "yaxis": "y"
        },
        {
         "hoverinfo": "text",
         "marker": {
          "color": "rgb(0,116,217)"
         },
         "mode": "lines",
         "type": "scatter",
         "x": [
          1402.5,
          1402.5,
          1446.25,
          1446.25
         ],
         "xaxis": "x",
         "y": [
          0.27614112215500225,
          0.5692448122416306,
          0.5692448122416306,
          0.4095164242046938
         ],
         "yaxis": "y"
        },
        {
         "hoverinfo": "text",
         "marker": {
          "color": "rgb(0,116,217)"
         },
         "mode": "lines",
         "type": "scatter",
         "x": [
          1485,
          1485,
          1495,
          1495
         ],
         "xaxis": "x",
         "y": [
          0,
          0.07485825263999042,
          0.07485825263999042,
          0
         ],
         "yaxis": "y"
        },
        {
         "hoverinfo": "text",
         "marker": {
          "color": "rgb(0,116,217)"
         },
         "mode": "lines",
         "type": "scatter",
         "x": [
          1475,
          1475,
          1490,
          1490
         ],
         "xaxis": "x",
         "y": [
          0,
          0.5727707745592825,
          0.5727707745592825,
          0.07485825263999042
         ],
         "yaxis": "y"
        },
        {
         "hoverinfo": "text",
         "marker": {
          "color": "rgb(0,116,217)"
         },
         "mode": "lines",
         "type": "scatter",
         "x": [
          1424.375,
          1424.375,
          1482.5,
          1482.5
         ],
         "xaxis": "x",
         "y": [
          0.5692448122416306,
          1.0609230402386705,
          1.0609230402386705,
          0.5727707745592825
         ],
         "yaxis": "y"
        },
        {
         "hoverinfo": "text",
         "marker": {
          "color": "rgb(0,116,217)"
         },
         "mode": "lines",
         "type": "scatter",
         "x": [
          1351.875,
          1351.875,
          1453.4375,
          1453.4375
         ],
         "xaxis": "x",
         "y": [
          0.673334262491893,
          1.15521923476942,
          1.15521923476942,
          1.0609230402386705
         ],
         "yaxis": "y"
        },
        {
         "hoverinfo": "text",
         "marker": {
          "color": "rgb(0,116,217)"
         },
         "mode": "lines",
         "type": "scatter",
         "x": [
          1292.5,
          1292.5,
          1402.65625,
          1402.65625
         ],
         "xaxis": "x",
         "y": [
          0.3914972780920591,
          1.6777712911454001,
          1.6777712911454001,
          1.15521923476942
         ],
         "yaxis": "y"
        },
        {
         "hoverinfo": "text",
         "marker": {
          "color": "rgb(0,116,217)"
         },
         "mode": "lines",
         "type": "scatter",
         "x": [
          1121.328125,
          1121.328125,
          1347.578125,
          1347.578125
         ],
         "xaxis": "x",
         "y": [
          1.5995512228369781,
          2.097728728812216,
          2.097728728812216,
          1.6777712911454001
         ],
         "yaxis": "y"
        },
        {
         "hoverinfo": "text",
         "marker": {
          "color": "rgb(0,116,217)"
         },
         "mode": "lines",
         "type": "scatter",
         "x": [
          915.9375,
          915.9375,
          1234.453125,
          1234.453125
         ],
         "xaxis": "x",
         "y": [
          1.3872049254999175,
          3.1714599133250223,
          3.1714599133250223,
          2.097728728812216
         ],
         "yaxis": "y"
        },
        {
         "hoverinfo": "text",
         "marker": {
          "color": "rgb(0,116,217)"
         },
         "mode": "lines",
         "type": "scatter",
         "x": [
          749.4921875,
          749.4921875,
          1075.1953125,
          1075.1953125
         ],
         "xaxis": "x",
         "y": [
          2.069589191890011,
          4.7527936071901165,
          4.7527936071901165,
          3.1714599133250223
         ],
         "yaxis": "y"
        },
        {
         "hoverinfo": "text",
         "marker": {
          "color": "rgb(0,116,217)"
         },
         "mode": "lines",
         "type": "scatter",
         "x": [
          463.96484375,
          463.96484375,
          912.34375,
          912.34375
         ],
         "xaxis": "x",
         "y": [
          2.9069888715125742,
          5.871303812869839,
          5.871303812869839,
          4.7527936071901165
         ],
         "yaxis": "y"
        },
        {
         "hoverinfo": "text",
         "marker": {
          "color": "rgb(0,116,217)"
         },
         "mode": "lines",
         "type": "scatter",
         "x": [
          79.1015625,
          79.1015625,
          688.154296875,
          688.154296875
         ],
         "xaxis": "x",
         "y": [
          3.0024144315110615,
          6.813667231464726,
          6.813667231464726,
          5.871303812869839
         ],
         "yaxis": "y"
        }
       ],
       "layout": {
        "autosize": false,
        "height": 500,
        "hovermode": "closest",
        "showlegend": false,
        "template": {
         "data": {
          "bar": [
           {
            "error_x": {
             "color": "#2a3f5f"
            },
            "error_y": {
             "color": "#2a3f5f"
            },
            "marker": {
             "line": {
              "color": "#E5ECF6",
              "width": 0.5
             },
             "pattern": {
              "fillmode": "overlay",
              "size": 10,
              "solidity": 0.2
             }
            },
            "type": "bar"
           }
          ],
          "barpolar": [
           {
            "marker": {
             "line": {
              "color": "#E5ECF6",
              "width": 0.5
             },
             "pattern": {
              "fillmode": "overlay",
              "size": 10,
              "solidity": 0.2
             }
            },
            "type": "barpolar"
           }
          ],
          "carpet": [
           {
            "aaxis": {
             "endlinecolor": "#2a3f5f",
             "gridcolor": "white",
             "linecolor": "white",
             "minorgridcolor": "white",
             "startlinecolor": "#2a3f5f"
            },
            "baxis": {
             "endlinecolor": "#2a3f5f",
             "gridcolor": "white",
             "linecolor": "white",
             "minorgridcolor": "white",
             "startlinecolor": "#2a3f5f"
            },
            "type": "carpet"
           }
          ],
          "choropleth": [
           {
            "colorbar": {
             "outlinewidth": 0,
             "ticks": ""
            },
            "type": "choropleth"
           }
          ],
          "contour": [
           {
            "colorbar": {
             "outlinewidth": 0,
             "ticks": ""
            },
            "colorscale": [
             [
              0,
              "#0d0887"
             ],
             [
              0.1111111111111111,
              "#46039f"
             ],
             [
              0.2222222222222222,
              "#7201a8"
             ],
             [
              0.3333333333333333,
              "#9c179e"
             ],
             [
              0.4444444444444444,
              "#bd3786"
             ],
             [
              0.5555555555555556,
              "#d8576b"
             ],
             [
              0.6666666666666666,
              "#ed7953"
             ],
             [
              0.7777777777777778,
              "#fb9f3a"
             ],
             [
              0.8888888888888888,
              "#fdca26"
             ],
             [
              1,
              "#f0f921"
             ]
            ],
            "type": "contour"
           }
          ],
          "contourcarpet": [
           {
            "colorbar": {
             "outlinewidth": 0,
             "ticks": ""
            },
            "type": "contourcarpet"
           }
          ],
          "heatmap": [
           {
            "colorbar": {
             "outlinewidth": 0,
             "ticks": ""
            },
            "colorscale": [
             [
              0,
              "#0d0887"
             ],
             [
              0.1111111111111111,
              "#46039f"
             ],
             [
              0.2222222222222222,
              "#7201a8"
             ],
             [
              0.3333333333333333,
              "#9c179e"
             ],
             [
              0.4444444444444444,
              "#bd3786"
             ],
             [
              0.5555555555555556,
              "#d8576b"
             ],
             [
              0.6666666666666666,
              "#ed7953"
             ],
             [
              0.7777777777777778,
              "#fb9f3a"
             ],
             [
              0.8888888888888888,
              "#fdca26"
             ],
             [
              1,
              "#f0f921"
             ]
            ],
            "type": "heatmap"
           }
          ],
          "heatmapgl": [
           {
            "colorbar": {
             "outlinewidth": 0,
             "ticks": ""
            },
            "colorscale": [
             [
              0,
              "#0d0887"
             ],
             [
              0.1111111111111111,
              "#46039f"
             ],
             [
              0.2222222222222222,
              "#7201a8"
             ],
             [
              0.3333333333333333,
              "#9c179e"
             ],
             [
              0.4444444444444444,
              "#bd3786"
             ],
             [
              0.5555555555555556,
              "#d8576b"
             ],
             [
              0.6666666666666666,
              "#ed7953"
             ],
             [
              0.7777777777777778,
              "#fb9f3a"
             ],
             [
              0.8888888888888888,
              "#fdca26"
             ],
             [
              1,
              "#f0f921"
             ]
            ],
            "type": "heatmapgl"
           }
          ],
          "histogram": [
           {
            "marker": {
             "pattern": {
              "fillmode": "overlay",
              "size": 10,
              "solidity": 0.2
             }
            },
            "type": "histogram"
           }
          ],
          "histogram2d": [
           {
            "colorbar": {
             "outlinewidth": 0,
             "ticks": ""
            },
            "colorscale": [
             [
              0,
              "#0d0887"
             ],
             [
              0.1111111111111111,
              "#46039f"
             ],
             [
              0.2222222222222222,
              "#7201a8"
             ],
             [
              0.3333333333333333,
              "#9c179e"
             ],
             [
              0.4444444444444444,
              "#bd3786"
             ],
             [
              0.5555555555555556,
              "#d8576b"
             ],
             [
              0.6666666666666666,
              "#ed7953"
             ],
             [
              0.7777777777777778,
              "#fb9f3a"
             ],
             [
              0.8888888888888888,
              "#fdca26"
             ],
             [
              1,
              "#f0f921"
             ]
            ],
            "type": "histogram2d"
           }
          ],
          "histogram2dcontour": [
           {
            "colorbar": {
             "outlinewidth": 0,
             "ticks": ""
            },
            "colorscale": [
             [
              0,
              "#0d0887"
             ],
             [
              0.1111111111111111,
              "#46039f"
             ],
             [
              0.2222222222222222,
              "#7201a8"
             ],
             [
              0.3333333333333333,
              "#9c179e"
             ],
             [
              0.4444444444444444,
              "#bd3786"
             ],
             [
              0.5555555555555556,
              "#d8576b"
             ],
             [
              0.6666666666666666,
              "#ed7953"
             ],
             [
              0.7777777777777778,
              "#fb9f3a"
             ],
             [
              0.8888888888888888,
              "#fdca26"
             ],
             [
              1,
              "#f0f921"
             ]
            ],
            "type": "histogram2dcontour"
           }
          ],
          "mesh3d": [
           {
            "colorbar": {
             "outlinewidth": 0,
             "ticks": ""
            },
            "type": "mesh3d"
           }
          ],
          "parcoords": [
           {
            "line": {
             "colorbar": {
              "outlinewidth": 0,
              "ticks": ""
             }
            },
            "type": "parcoords"
           }
          ],
          "pie": [
           {
            "automargin": true,
            "type": "pie"
           }
          ],
          "scatter": [
           {
            "fillpattern": {
             "fillmode": "overlay",
             "size": 10,
             "solidity": 0.2
            },
            "type": "scatter"
           }
          ],
          "scatter3d": [
           {
            "line": {
             "colorbar": {
              "outlinewidth": 0,
              "ticks": ""
             }
            },
            "marker": {
             "colorbar": {
              "outlinewidth": 0,
              "ticks": ""
             }
            },
            "type": "scatter3d"
           }
          ],
          "scattercarpet": [
           {
            "marker": {
             "colorbar": {
              "outlinewidth": 0,
              "ticks": ""
             }
            },
            "type": "scattercarpet"
           }
          ],
          "scattergeo": [
           {
            "marker": {
             "colorbar": {
              "outlinewidth": 0,
              "ticks": ""
             }
            },
            "type": "scattergeo"
           }
          ],
          "scattergl": [
           {
            "marker": {
             "colorbar": {
              "outlinewidth": 0,
              "ticks": ""
             }
            },
            "type": "scattergl"
           }
          ],
          "scattermapbox": [
           {
            "marker": {
             "colorbar": {
              "outlinewidth": 0,
              "ticks": ""
             }
            },
            "type": "scattermapbox"
           }
          ],
          "scatterpolar": [
           {
            "marker": {
             "colorbar": {
              "outlinewidth": 0,
              "ticks": ""
             }
            },
            "type": "scatterpolar"
           }
          ],
          "scatterpolargl": [
           {
            "marker": {
             "colorbar": {
              "outlinewidth": 0,
              "ticks": ""
             }
            },
            "type": "scatterpolargl"
           }
          ],
          "scatterternary": [
           {
            "marker": {
             "colorbar": {
              "outlinewidth": 0,
              "ticks": ""
             }
            },
            "type": "scatterternary"
           }
          ],
          "surface": [
           {
            "colorbar": {
             "outlinewidth": 0,
             "ticks": ""
            },
            "colorscale": [
             [
              0,
              "#0d0887"
             ],
             [
              0.1111111111111111,
              "#46039f"
             ],
             [
              0.2222222222222222,
              "#7201a8"
             ],
             [
              0.3333333333333333,
              "#9c179e"
             ],
             [
              0.4444444444444444,
              "#bd3786"
             ],
             [
              0.5555555555555556,
              "#d8576b"
             ],
             [
              0.6666666666666666,
              "#ed7953"
             ],
             [
              0.7777777777777778,
              "#fb9f3a"
             ],
             [
              0.8888888888888888,
              "#fdca26"
             ],
             [
              1,
              "#f0f921"
             ]
            ],
            "type": "surface"
           }
          ],
          "table": [
           {
            "cells": {
             "fill": {
              "color": "#EBF0F8"
             },
             "line": {
              "color": "white"
             }
            },
            "header": {
             "fill": {
              "color": "#C8D4E3"
             },
             "line": {
              "color": "white"
             }
            },
            "type": "table"
           }
          ]
         },
         "layout": {
          "annotationdefaults": {
           "arrowcolor": "#2a3f5f",
           "arrowhead": 0,
           "arrowwidth": 1
          },
          "autotypenumbers": "strict",
          "coloraxis": {
           "colorbar": {
            "outlinewidth": 0,
            "ticks": ""
           }
          },
          "colorscale": {
           "diverging": [
            [
             0,
             "#8e0152"
            ],
            [
             0.1,
             "#c51b7d"
            ],
            [
             0.2,
             "#de77ae"
            ],
            [
             0.3,
             "#f1b6da"
            ],
            [
             0.4,
             "#fde0ef"
            ],
            [
             0.5,
             "#f7f7f7"
            ],
            [
             0.6,
             "#e6f5d0"
            ],
            [
             0.7,
             "#b8e186"
            ],
            [
             0.8,
             "#7fbc41"
            ],
            [
             0.9,
             "#4d9221"
            ],
            [
             1,
             "#276419"
            ]
           ],
           "sequential": [
            [
             0,
             "#0d0887"
            ],
            [
             0.1111111111111111,
             "#46039f"
            ],
            [
             0.2222222222222222,
             "#7201a8"
            ],
            [
             0.3333333333333333,
             "#9c179e"
            ],
            [
             0.4444444444444444,
             "#bd3786"
            ],
            [
             0.5555555555555556,
             "#d8576b"
            ],
            [
             0.6666666666666666,
             "#ed7953"
            ],
            [
             0.7777777777777778,
             "#fb9f3a"
            ],
            [
             0.8888888888888888,
             "#fdca26"
            ],
            [
             1,
             "#f0f921"
            ]
           ],
           "sequentialminus": [
            [
             0,
             "#0d0887"
            ],
            [
             0.1111111111111111,
             "#46039f"
            ],
            [
             0.2222222222222222,
             "#7201a8"
            ],
            [
             0.3333333333333333,
             "#9c179e"
            ],
            [
             0.4444444444444444,
             "#bd3786"
            ],
            [
             0.5555555555555556,
             "#d8576b"
            ],
            [
             0.6666666666666666,
             "#ed7953"
            ],
            [
             0.7777777777777778,
             "#fb9f3a"
            ],
            [
             0.8888888888888888,
             "#fdca26"
            ],
            [
             1,
             "#f0f921"
            ]
           ]
          },
          "colorway": [
           "#636efa",
           "#EF553B",
           "#00cc96",
           "#ab63fa",
           "#FFA15A",
           "#19d3f3",
           "#FF6692",
           "#B6E880",
           "#FF97FF",
           "#FECB52"
          ],
          "font": {
           "color": "#2a3f5f"
          },
          "geo": {
           "bgcolor": "white",
           "lakecolor": "white",
           "landcolor": "#E5ECF6",
           "showlakes": true,
           "showland": true,
           "subunitcolor": "white"
          },
          "hoverlabel": {
           "align": "left"
          },
          "hovermode": "closest",
          "mapbox": {
           "style": "light"
          },
          "paper_bgcolor": "white",
          "plot_bgcolor": "#E5ECF6",
          "polar": {
           "angularaxis": {
            "gridcolor": "white",
            "linecolor": "white",
            "ticks": ""
           },
           "bgcolor": "#E5ECF6",
           "radialaxis": {
            "gridcolor": "white",
            "linecolor": "white",
            "ticks": ""
           }
          },
          "scene": {
           "xaxis": {
            "backgroundcolor": "#E5ECF6",
            "gridcolor": "white",
            "gridwidth": 2,
            "linecolor": "white",
            "showbackground": true,
            "ticks": "",
            "zerolinecolor": "white"
           },
           "yaxis": {
            "backgroundcolor": "#E5ECF6",
            "gridcolor": "white",
            "gridwidth": 2,
            "linecolor": "white",
            "showbackground": true,
            "ticks": "",
            "zerolinecolor": "white"
           },
           "zaxis": {
            "backgroundcolor": "#E5ECF6",
            "gridcolor": "white",
            "gridwidth": 2,
            "linecolor": "white",
            "showbackground": true,
            "ticks": "",
            "zerolinecolor": "white"
           }
          },
          "shapedefaults": {
           "line": {
            "color": "#2a3f5f"
           }
          },
          "ternary": {
           "aaxis": {
            "gridcolor": "white",
            "linecolor": "white",
            "ticks": ""
           },
           "baxis": {
            "gridcolor": "white",
            "linecolor": "white",
            "ticks": ""
           },
           "bgcolor": "#E5ECF6",
           "caxis": {
            "gridcolor": "white",
            "linecolor": "white",
            "ticks": ""
           }
          },
          "title": {
           "x": 0.05
          },
          "xaxis": {
           "automargin": true,
           "gridcolor": "white",
           "linecolor": "white",
           "ticks": "",
           "title": {
            "standoff": 15
           },
           "zerolinecolor": "white",
           "zerolinewidth": 2
          },
          "yaxis": {
           "automargin": true,
           "gridcolor": "white",
           "linecolor": "white",
           "ticks": "",
           "title": {
            "standoff": 15
           },
           "zerolinecolor": "white",
           "zerolinewidth": 2
          }
         }
        },
        "width": 800,
        "xaxis": {
         "mirror": "allticks",
         "rangemode": "tozero",
         "showgrid": false,
         "showline": true,
         "showticklabels": true,
         "tickmode": "array",
         "ticks": "outside",
         "ticktext": [
          "118",
          "130",
          "102",
          "107",
          "122",
          "105",
          "135",
          "109",
          "117",
          "131",
          "56",
          "85",
          "86",
          "70",
          "51",
          "65",
          "116",
          "147",
          "77",
          "137",
          "104",
          "112",
          "145",
          "140",
          "129",
          "139",
          "141",
          "100",
          "120",
          "143",
          "125",
          "144",
          "50",
          "52",
          "110",
          "115",
          "148",
          "124",
          "136",
          "15",
          "32",
          "14",
          "33",
          "19",
          "46",
          "21",
          "48",
          "10",
          "44",
          "18",
          "5",
          "16",
          "22",
          "4",
          "0",
          "40",
          "17",
          "27",
          "36",
          "31",
          "20",
          "43",
          "23",
          "26",
          "28",
          "39",
          "35",
          "49",
          "6",
          "11",
          "7",
          "24",
          "41",
          "8",
          "13",
          "38",
          "42",
          "29",
          "2",
          "47",
          "25",
          "1",
          "45",
          "30",
          "37",
          "9",
          "34",
          "3",
          "12",
          "60",
          "98",
          "57",
          "93",
          "106",
          "53",
          "62",
          "80",
          "81",
          "69",
          "89",
          "75",
          "127",
          "149",
          "58",
          "138",
          "71",
          "73",
          "61",
          "66",
          "74",
          "91",
          "97",
          "63",
          "78",
          "64",
          "88",
          "95",
          "84",
          "96",
          "55",
          "99",
          "94",
          "67",
          "82",
          "59",
          "79",
          "90",
          "92",
          "87",
          "68",
          "119",
          "83",
          "121",
          "134",
          "101",
          "142",
          "146",
          "72",
          "113",
          "123",
          "111",
          "114",
          "54",
          "126",
          "133",
          "76",
          "103",
          "108",
          "128",
          "132"
         ],
         "tickvals": [
          5,
          15,
          25,
          35,
          45,
          55,
          65,
          75,
          85,
          95,
          105,
          115,
          125,
          135,
          145,
          155,
          165,
          175,
          185,
          195,
          205,
          215,
          225,
          235,
          245,
          255,
          265,
          275,
          285,
          295,
          305,
          315,
          325,
          335,
          345,
          355,
          365,
          375,
          385,
          395,
          405,
          415,
          425,
          435,
          445,
          455,
          465,
          475,
          485,
          495,
          505,
          515,
          525,
          535,
          545,
          555,
          565,
          575,
          585,
          595,
          605,
          615,
          625,
          635,
          645,
          655,
          665,
          675,
          685,
          695,
          705,
          715,
          725,
          735,
          745,
          755,
          765,
          775,
          785,
          795,
          805,
          815,
          825,
          835,
          845,
          855,
          865,
          875,
          885,
          895,
          905,
          915,
          925,
          935,
          945,
          955,
          965,
          975,
          985,
          995,
          1005,
          1015,
          1025,
          1035,
          1045,
          1055,
          1065,
          1075,
          1085,
          1095,
          1105,
          1115,
          1125,
          1135,
          1145,
          1155,
          1165,
          1175,
          1185,
          1195,
          1205,
          1215,
          1225,
          1235,
          1245,
          1255,
          1265,
          1275,
          1285,
          1295,
          1305,
          1315,
          1325,
          1335,
          1345,
          1355,
          1365,
          1375,
          1385,
          1395,
          1405,
          1415,
          1425,
          1435,
          1445,
          1455,
          1465,
          1475,
          1485,
          1495
         ],
         "type": "linear",
         "zeroline": false
        },
        "yaxis": {
         "mirror": "allticks",
         "rangemode": "tozero",
         "showgrid": false,
         "showline": true,
         "showticklabels": true,
         "ticks": "outside",
         "type": "linear",
         "zeroline": false
        }
       }
      },
      "text/html": [
       "<div>                            <div id=\"9723768e-803e-4577-9769-713abff89e08\" class=\"plotly-graph-div\" style=\"height:500px; width:800px;\"></div>            <script type=\"text/javascript\">                require([\"plotly\"], function(Plotly) {                    window.PLOTLYENV=window.PLOTLYENV || {};                                    if (document.getElementById(\"9723768e-803e-4577-9769-713abff89e08\")) {                    Plotly.newPlot(                        \"9723768e-803e-4577-9769-713abff89e08\",                        [{\"hoverinfo\":\"text\",\"marker\":{\"color\":\"rgb(0,116,217)\"},\"mode\":\"lines\",\"x\":[25.0,25.0,35.0,35.0],\"xaxis\":\"x\",\"y\":[0.0,0.17422385269037685,0.17422385269037685,0.0],\"yaxis\":\"y\",\"type\":\"scatter\"},{\"hoverinfo\":\"text\",\"marker\":{\"color\":\"rgb(0,116,217)\"},\"mode\":\"lines\",\"x\":[15.0,15.0,30.0,30.0],\"xaxis\":\"x\",\"y\":[0.0,0.38374369539585373,0.38374369539585373,0.17422385269037685],\"yaxis\":\"y\",\"type\":\"scatter\"},{\"hoverinfo\":\"text\",\"marker\":{\"color\":\"rgb(0,116,217)\"},\"mode\":\"lines\",\"x\":[55.0,55.0,65.0,65.0],\"xaxis\":\"x\",\"y\":[0.0,0.07319361257252464,0.07319361257252464,0.0],\"yaxis\":\"y\",\"type\":\"scatter\"},{\"hoverinfo\":\"text\",\"marker\":{\"color\":\"rgb(0,116,217)\"},\"mode\":\"lines\",\"x\":[45.0,45.0,60.0,60.0],\"xaxis\":\"x\",\"y\":[0.0,0.4573857687652166,0.4573857687652166,0.07319361257252464],\"yaxis\":\"y\",\"type\":\"scatter\"},{\"hoverinfo\":\"text\",\"marker\":{\"color\":\"rgb(0,116,217)\"},\"mode\":\"lines\",\"x\":[22.5,22.5,52.5,52.5],\"xaxis\":\"x\",\"y\":[0.38374369539585373,0.7092374678608772,0.7092374678608772,0.4573857687652166],\"yaxis\":\"y\",\"type\":\"scatter\"},{\"hoverinfo\":\"text\",\"marker\":{\"color\":\"rgb(0,116,217)\"},\"mode\":\"lines\",\"x\":[5.0,5.0,37.5,37.5],\"xaxis\":\"x\",\"y\":[0.0,1.2353990195988576,1.2353990195988576,0.7092374678608772],\"yaxis\":\"y\",\"type\":\"scatter\"},{\"hoverinfo\":\"text\",\"marker\":{\"color\":\"rgb(0,116,217)\"},\"mode\":\"lines\",\"x\":[85.0,85.0,95.0,95.0],\"xaxis\":\"x\",\"y\":[0.0,0.1397597201570749,0.1397597201570749,0.0],\"yaxis\":\"y\",\"type\":\"scatter\"},{\"hoverinfo\":\"text\",\"marker\":{\"color\":\"rgb(0,116,217)\"},\"mode\":\"lines\",\"x\":[75.0,75.0,90.0,90.0],\"xaxis\":\"x\",\"y\":[0.0,0.7064096921199917,0.7064096921199917,0.1397597201570749],\"yaxis\":\"y\",\"type\":\"scatter\"},{\"hoverinfo\":\"text\",\"marker\":{\"color\":\"rgb(0,116,217)\"},\"mode\":\"lines\",\"x\":[105.0,105.0,115.0,115.0],\"xaxis\":\"x\",\"y\":[0.0,0.32601940729911566,0.32601940729911566,0.0],\"yaxis\":\"y\",\"type\":\"scatter\"},{\"hoverinfo\":\"text\",\"marker\":{\"color\":\"rgb(0,116,217)\"},\"mode\":\"lines\",\"x\":[145.0,145.0,155.0,155.0],\"xaxis\":\"x\",\"y\":[0.0,0.1685905140421089,0.1685905140421089,0.0],\"yaxis\":\"y\",\"type\":\"scatter\"},{\"hoverinfo\":\"text\",\"marker\":{\"color\":\"rgb(0,116,217)\"},\"mode\":\"lines\",\"x\":[135.0,135.0,150.0,150.0],\"xaxis\":\"x\",\"y\":[0.0,0.1962501699168359,0.1962501699168359,0.1685905140421089],\"yaxis\":\"y\",\"type\":\"scatter\"},{\"hoverinfo\":\"text\",\"marker\":{\"color\":\"rgb(0,116,217)\"},\"mode\":\"lines\",\"x\":[125.0,125.0,142.5,142.5],\"xaxis\":\"x\",\"y\":[0.0,0.33339670250867187,0.33339670250867187,0.1962501699168359],\"yaxis\":\"y\",\"type\":\"scatter\"},{\"hoverinfo\":\"text\",\"marker\":{\"color\":\"rgb(0,116,217)\"},\"mode\":\"lines\",\"x\":[110.0,110.0,133.75,133.75],\"xaxis\":\"x\",\"y\":[0.32601940729911566,0.7016522439728983,0.7016522439728983,0.33339670250867187],\"yaxis\":\"y\",\"type\":\"scatter\"},{\"hoverinfo\":\"text\",\"marker\":{\"color\":\"rgb(0,116,217)\"},\"mode\":\"lines\",\"x\":[165.0,165.0,175.0,175.0],\"xaxis\":\"x\",\"y\":[0.0,0.051397412293108534,0.051397412293108534,0.0],\"yaxis\":\"y\",\"type\":\"scatter\"},{\"hoverinfo\":\"text\",\"marker\":{\"color\":\"rgb(0,116,217)\"},\"mode\":\"lines\",\"x\":[185.0,185.0,195.0,195.0],\"xaxis\":\"x\",\"y\":[0.0,0.09410402468181762,0.09410402468181762,0.0],\"yaxis\":\"y\",\"type\":\"scatter\"},{\"hoverinfo\":\"text\",\"marker\":{\"color\":\"rgb(0,116,217)\"},\"mode\":\"lines\",\"x\":[170.0,170.0,190.0,190.0],\"xaxis\":\"x\",\"y\":[0.051397412293108534,0.2331842757245655,0.2331842757245655,0.09410402468181762],\"yaxis\":\"y\",\"type\":\"scatter\"},{\"hoverinfo\":\"text\",\"marker\":{\"color\":\"rgb(0,116,217)\"},\"mode\":\"lines\",\"x\":[215.0,215.0,225.0,225.0],\"xaxis\":\"x\",\"y\":[0.0,0.03437215474252744,0.03437215474252744,0.0],\"yaxis\":\"y\",\"type\":\"scatter\"},{\"hoverinfo\":\"text\",\"marker\":{\"color\":\"rgb(0,116,217)\"},\"mode\":\"lines\",\"x\":[205.0,205.0,220.0,220.0],\"xaxis\":\"x\",\"y\":[0.0,0.12422212395013334,0.12422212395013334,0.03437215474252744],\"yaxis\":\"y\",\"type\":\"scatter\"},{\"hoverinfo\":\"text\",\"marker\":{\"color\":\"rgb(0,116,217)\"},\"mode\":\"lines\",\"x\":[255.0,255.0,265.0,265.0],\"xaxis\":\"x\",\"y\":[0.0,0.05139741229310812,0.05139741229310812,0.0],\"yaxis\":\"y\",\"type\":\"scatter\"},{\"hoverinfo\":\"text\",\"marker\":{\"color\":\"rgb(0,116,217)\"},\"mode\":\"lines\",\"x\":[245.0,245.0,260.0,260.0],\"xaxis\":\"x\",\"y\":[0.0,0.13615265946754657,0.13615265946754657,0.05139741229310812],\"yaxis\":\"y\",\"type\":\"scatter\"},{\"hoverinfo\":\"text\",\"marker\":{\"color\":\"rgb(0,116,217)\"},\"mode\":\"lines\",\"x\":[235.0,235.0,252.5,252.5],\"xaxis\":\"x\",\"y\":[0.0,0.17403345329248499,0.17403345329248499,0.13615265946754657],\"yaxis\":\"y\",\"type\":\"scatter\"},{\"hoverinfo\":\"text\",\"marker\":{\"color\":\"rgb(0,116,217)\"},\"mode\":\"lines\",\"x\":[212.5,212.5,243.75,243.75],\"xaxis\":\"x\",\"y\":[0.12422212395013334,0.39640032045971707,0.39640032045971707,0.17403345329248499],\"yaxis\":\"y\",\"type\":\"scatter\"},{\"hoverinfo\":\"text\",\"marker\":{\"color\":\"rgb(0,116,217)\"},\"mode\":\"lines\",\"x\":[180.0,180.0,228.125,228.125],\"xaxis\":\"x\",\"y\":[0.2331842757245655,0.715640078452767,0.715640078452767,0.39640032045971707],\"yaxis\":\"y\",\"type\":\"scatter\"},{\"hoverinfo\":\"text\",\"marker\":{\"color\":\"rgb(0,116,217)\"},\"mode\":\"lines\",\"x\":[285.0,285.0,295.0,295.0],\"xaxis\":\"x\",\"y\":[0.0,0.04280635802071525,0.04280635802071525,0.0],\"yaxis\":\"y\",\"type\":\"scatter\"},{\"hoverinfo\":\"text\",\"marker\":{\"color\":\"rgb(0,116,217)\"},\"mode\":\"lines\",\"x\":[305.0,305.0,315.0,315.0],\"xaxis\":\"x\",\"y\":[0.0,0.06306517628686374,0.06306517628686374,0.0],\"yaxis\":\"y\",\"type\":\"scatter\"},{\"hoverinfo\":\"text\",\"marker\":{\"color\":\"rgb(0,116,217)\"},\"mode\":\"lines\",\"x\":[290.0,290.0,310.0,310.0],\"xaxis\":\"x\",\"y\":[0.04280635802071525,0.18851634764369546,0.18851634764369546,0.06306517628686374],\"yaxis\":\"y\",\"type\":\"scatter\"},{\"hoverinfo\":\"text\",\"marker\":{\"color\":\"rgb(0,116,217)\"},\"mode\":\"lines\",\"x\":[275.0,275.0,300.0,300.0],\"xaxis\":\"x\",\"y\":[0.0,0.23451818445284775,0.23451818445284775,0.18851634764369546],\"yaxis\":\"y\",\"type\":\"scatter\"},{\"hoverinfo\":\"text\",\"marker\":{\"color\":\"rgb(0,116,217)\"},\"mode\":\"lines\",\"x\":[335.0,335.0,345.0,345.0],\"xaxis\":\"x\",\"y\":[0.0,0.14692610447676546,0.14692610447676546,0.0],\"yaxis\":\"y\",\"type\":\"scatter\"},{\"hoverinfo\":\"text\",\"marker\":{\"color\":\"rgb(0,116,217)\"},\"mode\":\"lines\",\"x\":[325.0,325.0,340.0,340.0],\"xaxis\":\"x\",\"y\":[0.0,0.31179555833794165,0.31179555833794165,0.14692610447676546],\"yaxis\":\"y\",\"type\":\"scatter\"},{\"hoverinfo\":\"text\",\"marker\":{\"color\":\"rgb(0,116,217)\"},\"mode\":\"lines\",\"x\":[375.0,375.0,385.0,385.0],\"xaxis\":\"x\",\"y\":[0.0,0.13710992661168858,0.13710992661168858,0.0],\"yaxis\":\"y\",\"type\":\"scatter\"},{\"hoverinfo\":\"text\",\"marker\":{\"color\":\"rgb(0,116,217)\"},\"mode\":\"lines\",\"x\":[365.0,365.0,380.0,380.0],\"xaxis\":\"x\",\"y\":[0.0,0.32785699012283254,0.32785699012283254,0.13710992661168858],\"yaxis\":\"y\",\"type\":\"scatter\"},{\"hoverinfo\":\"text\",\"marker\":{\"color\":\"rgb(0,116,217)\"},\"mode\":\"lines\",\"x\":[355.0,355.0,372.5,372.5],\"xaxis\":\"x\",\"y\":[0.0,0.401929689613317,0.401929689613317,0.32785699012283254],\"yaxis\":\"y\",\"type\":\"scatter\"},{\"hoverinfo\":\"text\",\"marker\":{\"color\":\"rgb(0,116,217)\"},\"mode\":\"lines\",\"x\":[332.5,332.5,363.75,363.75],\"xaxis\":\"x\",\"y\":[0.31179555833794165,0.6189575064916499,0.6189575064916499,0.401929689613317],\"yaxis\":\"y\",\"type\":\"scatter\"},{\"hoverinfo\":\"text\",\"marker\":{\"color\":\"rgb(0,116,217)\"},\"mode\":\"lines\",\"x\":[287.5,287.5,348.125,348.125],\"xaxis\":\"x\",\"y\":[0.23451818445284775,0.9393161026282291,0.9393161026282291,0.6189575064916499],\"yaxis\":\"y\",\"type\":\"scatter\"},{\"hoverinfo\":\"text\",\"marker\":{\"color\":\"rgb(0,116,217)\"},\"mode\":\"lines\",\"x\":[204.0625,204.0625,317.8125,317.8125],\"xaxis\":\"x\",\"y\":[0.715640078452767,0.9654223427983328,0.9654223427983328,0.9393161026282291],\"yaxis\":\"y\",\"type\":\"scatter\"},{\"hoverinfo\":\"text\",\"marker\":{\"color\":\"rgb(0,116,217)\"},\"mode\":\"lines\",\"x\":[121.875,121.875,260.9375,260.9375],\"xaxis\":\"x\",\"y\":[0.7016522439728983,1.611553563162023,1.611553563162023,0.9654223427983328],\"yaxis\":\"y\",\"type\":\"scatter\"},{\"hoverinfo\":\"text\",\"marker\":{\"color\":\"rgb(0,116,217)\"},\"mode\":\"lines\",\"x\":[82.5,82.5,191.40625,191.40625],\"xaxis\":\"x\",\"y\":[0.7064096921199917,2.74371448228745,2.74371448228745,1.611553563162023],\"yaxis\":\"y\",\"type\":\"scatter\"},{\"hoverinfo\":\"text\",\"marker\":{\"color\":\"rgb(0,116,217)\"},\"mode\":\"lines\",\"x\":[21.25,21.25,136.953125,136.953125],\"xaxis\":\"x\",\"y\":[1.2353990195988576,3.0024144315110615,3.0024144315110615,2.74371448228745],\"yaxis\":\"y\",\"type\":\"scatter\"},{\"hoverinfo\":\"text\",\"marker\":{\"color\":\"rgb(0,116,217)\"},\"mode\":\"lines\",\"x\":[415.0,415.0,425.0,425.0],\"xaxis\":\"x\",\"y\":[0.0,0.3842101223880748,0.3842101223880748,0.0],\"yaxis\":\"y\",\"type\":\"scatter\"},{\"hoverinfo\":\"text\",\"marker\":{\"color\":\"rgb(0,116,217)\"},\"mode\":\"lines\",\"x\":[405.0,405.0,420.0,420.0],\"xaxis\":\"x\",\"y\":[0.0,0.4204342005618244,0.4204342005618244,0.3842101223880748],\"yaxis\":\"y\",\"type\":\"scatter\"},{\"hoverinfo\":\"text\",\"marker\":{\"color\":\"rgb(0,116,217)\"},\"mode\":\"lines\",\"x\":[395.0,395.0,412.5,412.5],\"xaxis\":\"x\",\"y\":[0.0,0.9624508321318382,0.9624508321318382,0.4204342005618244],\"yaxis\":\"y\",\"type\":\"scatter\"},{\"hoverinfo\":\"text\",\"marker\":{\"color\":\"rgb(0,116,217)\"},\"mode\":\"lines\",\"x\":[435.0,435.0,445.0,445.0],\"xaxis\":\"x\",\"y\":[0.0,0.04196686728486643,0.04196686728486643,0.0],\"yaxis\":\"y\",\"type\":\"scatter\"},{\"hoverinfo\":\"text\",\"marker\":{\"color\":\"rgb(0,116,217)\"},\"mode\":\"lines\",\"x\":[455.0,455.0,465.0,465.0],\"xaxis\":\"x\",\"y\":[0.0,0.07630648304882541,0.07630648304882541,0.0],\"yaxis\":\"y\",\"type\":\"scatter\"},{\"hoverinfo\":\"text\",\"marker\":{\"color\":\"rgb(0,116,217)\"},\"mode\":\"lines\",\"x\":[475.0,475.0,485.0,485.0],\"xaxis\":\"x\",\"y\":[0.0,0.1052370812647477,0.1052370812647477,0.0],\"yaxis\":\"y\",\"type\":\"scatter\"},{\"hoverinfo\":\"text\",\"marker\":{\"color\":\"rgb(0,116,217)\"},\"mode\":\"lines\",\"x\":[460.0,460.0,480.0,480.0],\"xaxis\":\"x\",\"y\":[0.07630648304882541,0.23028186877490886,0.23028186877490886,0.1052370812647477],\"yaxis\":\"y\",\"type\":\"scatter\"},{\"hoverinfo\":\"text\",\"marker\":{\"color\":\"rgb(0,116,217)\"},\"mode\":\"lines\",\"x\":[440.0,440.0,470.0,470.0],\"xaxis\":\"x\",\"y\":[0.04196686728486643,0.2654534380697446,0.2654534380697446,0.23028186877490886],\"yaxis\":\"y\",\"type\":\"scatter\"},{\"hoverinfo\":\"text\",\"marker\":{\"color\":\"rgb(0,116,217)\"},\"mode\":\"lines\",\"x\":[505.0,505.0,515.0,515.0],\"xaxis\":\"x\",\"y\":[0.0,0.13230071340336075,0.13230071340336075,0.0],\"yaxis\":\"y\",\"type\":\"scatter\"},{\"hoverinfo\":\"text\",\"marker\":{\"color\":\"rgb(0,116,217)\"},\"mode\":\"lines\",\"x\":[495.0,495.0,510.0,510.0],\"xaxis\":\"x\",\"y\":[0.0,0.319547004229206,0.319547004229206,0.13230071340336075],\"yaxis\":\"y\",\"type\":\"scatter\"},{\"hoverinfo\":\"text\",\"marker\":{\"color\":\"rgb(0,116,217)\"},\"mode\":\"lines\",\"x\":[455.0,455.0,502.5,502.5],\"xaxis\":\"x\",\"y\":[0.2654534380697446,0.5817597519203279,0.5817597519203279,0.319547004229206],\"yaxis\":\"y\",\"type\":\"scatter\"},{\"hoverinfo\":\"text\",\"marker\":{\"color\":\"rgb(0,116,217)\"},\"mode\":\"lines\",\"x\":[545.0,545.0,555.0,555.0],\"xaxis\":\"x\",\"y\":[0.0,0.0436528547251196,0.0436528547251196,0.0],\"yaxis\":\"y\",\"type\":\"scatter\"},{\"hoverinfo\":\"text\",\"marker\":{\"color\":\"rgb(0,116,217)\"},\"mode\":\"lines\",\"x\":[565.0,565.0,575.0,575.0],\"xaxis\":\"x\",\"y\":[0.0,0.043652854725122765,0.043652854725122765,0.0],\"yaxis\":\"y\",\"type\":\"scatter\"},{\"hoverinfo\":\"text\",\"marker\":{\"color\":\"rgb(0,116,217)\"},\"mode\":\"lines\",\"x\":[550.0,550.0,570.0,570.0],\"xaxis\":\"x\",\"y\":[0.0436528547251196,0.1451309789534474,0.1451309789534474,0.043652854725122765],\"yaxis\":\"y\",\"type\":\"scatter\"},{\"hoverinfo\":\"text\",\"marker\":{\"color\":\"rgb(0,116,217)\"},\"mode\":\"lines\",\"x\":[535.0,535.0,560.0,560.0],\"xaxis\":\"x\",\"y\":[0.0,0.2553227356318859,0.2553227356318859,0.1451309789534474],\"yaxis\":\"y\",\"type\":\"scatter\"},{\"hoverinfo\":\"text\",\"marker\":{\"color\":\"rgb(0,116,217)\"},\"mode\":\"lines\",\"x\":[605.0,605.0,615.0,615.0],\"xaxis\":\"x\",\"y\":[0.0,0.08337577355010806,0.08337577355010806,0.0],\"yaxis\":\"y\",\"type\":\"scatter\"},{\"hoverinfo\":\"text\",\"marker\":{\"color\":\"rgb(0,116,217)\"},\"mode\":\"lines\",\"x\":[595.0,595.0,610.0,610.0],\"xaxis\":\"x\",\"y\":[0.0,0.14223637132454744,0.14223637132454744,0.08337577355010806],\"yaxis\":\"y\",\"type\":\"scatter\"},{\"hoverinfo\":\"text\",\"marker\":{\"color\":\"rgb(0,116,217)\"},\"mode\":\"lines\",\"x\":[585.0,585.0,602.5,602.5],\"xaxis\":\"x\",\"y\":[0.0,0.32030950294232563,0.32030950294232563,0.14223637132454744],\"yaxis\":\"y\",\"type\":\"scatter\"},{\"hoverinfo\":\"text\",\"marker\":{\"color\":\"rgb(0,116,217)\"},\"mode\":\"lines\",\"x\":[547.5,547.5,593.75,593.75],\"xaxis\":\"x\",\"y\":[0.2553227356318859,0.6022795159216783,0.6022795159216783,0.32030950294232563],\"yaxis\":\"y\",\"type\":\"scatter\"},{\"hoverinfo\":\"text\",\"marker\":{\"color\":\"rgb(0,116,217)\"},\"mode\":\"lines\",\"x\":[645.0,645.0,655.0,655.0],\"xaxis\":\"x\",\"y\":[0.0,0.05331907673260634,0.05331907673260634,0.0],\"yaxis\":\"y\",\"type\":\"scatter\"},{\"hoverinfo\":\"text\",\"marker\":{\"color\":\"rgb(0,116,217)\"},\"mode\":\"lines\",\"x\":[635.0,635.0,650.0,650.0],\"xaxis\":\"x\",\"y\":[0.0,0.12145780184386201,0.12145780184386201,0.05331907673260634],\"yaxis\":\"y\",\"type\":\"scatter\"},{\"hoverinfo\":\"text\",\"marker\":{\"color\":\"rgb(0,116,217)\"},\"mode\":\"lines\",\"x\":[625.0,625.0,642.5,642.5],\"xaxis\":\"x\",\"y\":[0.0,0.39646197580820514,0.39646197580820514,0.12145780184386201],\"yaxis\":\"y\",\"type\":\"scatter\"},{\"hoverinfo\":\"text\",\"marker\":{\"color\":\"rgb(0,116,217)\"},\"mode\":\"lines\",\"x\":[665.0,665.0,675.0,675.0],\"xaxis\":\"x\",\"y\":[0.0,0.21663725311855747,0.21663725311855747,0.0],\"yaxis\":\"y\",\"type\":\"scatter\"},{\"hoverinfo\":\"text\",\"marker\":{\"color\":\"rgb(0,116,217)\"},\"mode\":\"lines\",\"x\":[705.0,705.0,715.0,715.0],\"xaxis\":\"x\",\"y\":[0.0,0.0856127160414297,0.0856127160414297,0.0],\"yaxis\":\"y\",\"type\":\"scatter\"},{\"hoverinfo\":\"text\",\"marker\":{\"color\":\"rgb(0,116,217)\"},\"mode\":\"lines\",\"x\":[695.0,695.0,710.0,710.0],\"xaxis\":\"x\",\"y\":[0.0,0.12913046641490072,0.12913046641490072,0.0856127160414297],\"yaxis\":\"y\",\"type\":\"scatter\"},{\"hoverinfo\":\"text\",\"marker\":{\"color\":\"rgb(0,116,217)\"},\"mode\":\"lines\",\"x\":[685.0,685.0,702.5,702.5],\"xaxis\":\"x\",\"y\":[0.0,0.27356062290998845,0.27356062290998845,0.12913046641490072],\"yaxis\":\"y\",\"type\":\"scatter\"},{\"hoverinfo\":\"text\",\"marker\":{\"color\":\"rgb(0,116,217)\"},\"mode\":\"lines\",\"x\":[670.0,670.0,693.75,693.75],\"xaxis\":\"x\",\"y\":[0.21663725311855747,0.4325489512436779,0.4325489512436779,0.27356062290998845],\"yaxis\":\"y\",\"type\":\"scatter\"},{\"hoverinfo\":\"text\",\"marker\":{\"color\":\"rgb(0,116,217)\"},\"mode\":\"lines\",\"x\":[633.75,633.75,681.875,681.875],\"xaxis\":\"x\",\"y\":[0.39646197580820514,0.6261276907800091,0.6261276907800091,0.4325489512436779],\"yaxis\":\"y\",\"type\":\"scatter\"},{\"hoverinfo\":\"text\",\"marker\":{\"color\":\"rgb(0,116,217)\"},\"mode\":\"lines\",\"x\":[570.625,570.625,657.8125,657.8125],\"xaxis\":\"x\",\"y\":[0.6022795159216783,0.8851341628602787,0.8851341628602787,0.6261276907800091],\"yaxis\":\"y\",\"type\":\"scatter\"},{\"hoverinfo\":\"text\",\"marker\":{\"color\":\"rgb(0,116,217)\"},\"mode\":\"lines\",\"x\":[525.0,525.0,614.21875,614.21875],\"xaxis\":\"x\",\"y\":[0.0,1.0276987650236054,1.0276987650236054,0.8851341628602787],\"yaxis\":\"y\",\"type\":\"scatter\"},{\"hoverinfo\":\"text\",\"marker\":{\"color\":\"rgb(0,116,217)\"},\"mode\":\"lines\",\"x\":[478.75,478.75,569.609375,569.609375],\"xaxis\":\"x\",\"y\":[0.5817597519203279,1.7086794888692802,1.7086794888692802,1.0276987650236054],\"yaxis\":\"y\",\"type\":\"scatter\"},{\"hoverinfo\":\"text\",\"marker\":{\"color\":\"rgb(0,116,217)\"},\"mode\":\"lines\",\"x\":[403.75,403.75,524.1796875,524.1796875],\"xaxis\":\"x\",\"y\":[0.9624508321318382,2.9069888715125742,2.9069888715125742,1.7086794888692802],\"yaxis\":\"y\",\"type\":\"scatter\"},{\"hoverinfo\":\"text\",\"marker\":{\"color\":\"rgb(0,116,217)\"},\"mode\":\"lines\",\"x\":[745.0,745.0,755.0,755.0],\"xaxis\":\"x\",\"y\":[0.0,0.21134902766696695,0.21134902766696695,0.0],\"yaxis\":\"y\",\"type\":\"scatter\"},{\"hoverinfo\":\"text\",\"marker\":{\"color\":\"rgb(0,116,217)\"},\"mode\":\"lines\",\"x\":[735.0,735.0,750.0,750.0],\"xaxis\":\"x\",\"y\":[0.0,0.3365510487865414,0.3365510487865414,0.21134902766696695],\"yaxis\":\"y\",\"type\":\"scatter\"},{\"hoverinfo\":\"text\",\"marker\":{\"color\":\"rgb(0,116,217)\"},\"mode\":\"lines\",\"x\":[785.0,785.0,795.0,795.0],\"xaxis\":\"x\",\"y\":[0.0,0.05331907673260762,0.05331907673260762,0.0],\"yaxis\":\"y\",\"type\":\"scatter\"},{\"hoverinfo\":\"text\",\"marker\":{\"color\":\"rgb(0,116,217)\"},\"mode\":\"lines\",\"x\":[775.0,775.0,790.0,790.0],\"xaxis\":\"x\",\"y\":[0.0,0.13784829338354526,0.13784829338354526,0.05331907673260762],\"yaxis\":\"y\",\"type\":\"scatter\"},{\"hoverinfo\":\"text\",\"marker\":{\"color\":\"rgb(0,116,217)\"},\"mode\":\"lines\",\"x\":[765.0,765.0,782.5,782.5],\"xaxis\":\"x\",\"y\":[0.0,0.32070277540188236,0.32070277540188236,0.13784829338354526],\"yaxis\":\"y\",\"type\":\"scatter\"},{\"hoverinfo\":\"text\",\"marker\":{\"color\":\"rgb(0,116,217)\"},\"mode\":\"lines\",\"x\":[815.0,815.0,825.0,825.0],\"xaxis\":\"x\",\"y\":[0.0,0.03815324152441201,0.03815324152441201,0.0],\"yaxis\":\"y\",\"type\":\"scatter\"},{\"hoverinfo\":\"text\",\"marker\":{\"color\":\"rgb(0,116,217)\"},\"mode\":\"lines\",\"x\":[805.0,805.0,820.0,820.0],\"xaxis\":\"x\",\"y\":[0.0,0.1451309789534475,0.1451309789534475,0.03815324152441201],\"yaxis\":\"y\",\"type\":\"scatter\"},{\"hoverinfo\":\"text\",\"marker\":{\"color\":\"rgb(0,116,217)\"},\"mode\":\"lines\",\"x\":[855.0,855.0,865.0,865.0],\"xaxis\":\"x\",\"y\":[0.0,0.0,0.0,0.0],\"yaxis\":\"y\",\"type\":\"scatter\"},{\"hoverinfo\":\"text\",\"marker\":{\"color\":\"rgb(0,116,217)\"},\"mode\":\"lines\",\"x\":[845.0,845.0,860.0,860.0],\"xaxis\":\"x\",\"y\":[0.0,0.0,0.0,0.0],\"yaxis\":\"y\",\"type\":\"scatter\"},{\"hoverinfo\":\"text\",\"marker\":{\"color\":\"rgb(0,116,217)\"},\"mode\":\"lines\",\"x\":[835.0,835.0,852.5,852.5],\"xaxis\":\"x\",\"y\":[0.0,0.05651285515586215,0.05651285515586215,0.0],\"yaxis\":\"y\",\"type\":\"scatter\"},{\"hoverinfo\":\"text\",\"marker\":{\"color\":\"rgb(0,116,217)\"},\"mode\":\"lines\",\"x\":[875.0,875.0,885.0,885.0],\"xaxis\":\"x\",\"y\":[0.0,0.1559086431987803,0.1559086431987803,0.0],\"yaxis\":\"y\",\"type\":\"scatter\"},{\"hoverinfo\":\"text\",\"marker\":{\"color\":\"rgb(0,116,217)\"},\"mode\":\"lines\",\"x\":[843.75,843.75,880.0,880.0],\"xaxis\":\"x\",\"y\":[0.05651285515586215,0.2628844414641437,0.2628844414641437,0.1559086431987803],\"yaxis\":\"y\",\"type\":\"scatter\"},{\"hoverinfo\":\"text\",\"marker\":{\"color\":\"rgb(0,116,217)\"},\"mode\":\"lines\",\"x\":[812.5,812.5,861.875,861.875],\"xaxis\":\"x\",\"y\":[0.1451309789534475,0.34869336804184514,0.34869336804184514,0.2628844414641437],\"yaxis\":\"y\",\"type\":\"scatter\"},{\"hoverinfo\":\"text\",\"marker\":{\"color\":\"rgb(0,116,217)\"},\"mode\":\"lines\",\"x\":[773.75,773.75,837.1875,837.1875],\"xaxis\":\"x\",\"y\":[0.32070277540188236,0.6202520639239193,0.6202520639239193,0.34869336804184514],\"yaxis\":\"y\",\"type\":\"scatter\"},{\"hoverinfo\":\"text\",\"marker\":{\"color\":\"rgb(0,116,217)\"},\"mode\":\"lines\",\"x\":[742.5,742.5,805.46875,805.46875],\"xaxis\":\"x\",\"y\":[0.3365510487865414,0.783690791910665,0.783690791910665,0.6202520639239193],\"yaxis\":\"y\",\"type\":\"scatter\"},{\"hoverinfo\":\"text\",\"marker\":{\"color\":\"rgb(0,116,217)\"},\"mode\":\"lines\",\"x\":[725.0,725.0,773.984375,773.984375],\"xaxis\":\"x\",\"y\":[0.0,2.069589191890011,2.069589191890011,0.783690791910665],\"yaxis\":\"y\",\"type\":\"scatter\"},{\"hoverinfo\":\"text\",\"marker\":{\"color\":\"rgb(0,116,217)\"},\"mode\":\"lines\",\"x\":[915.0,915.0,925.0,925.0],\"xaxis\":\"x\",\"y\":[0.0,0.20980226479244973,0.20980226479244973,0.0],\"yaxis\":\"y\",\"type\":\"scatter\"},{\"hoverinfo\":\"text\",\"marker\":{\"color\":\"rgb(0,116,217)\"},\"mode\":\"lines\",\"x\":[905.0,905.0,920.0,920.0],\"xaxis\":\"x\",\"y\":[0.0,0.4856794131982546,0.4856794131982546,0.20980226479244973],\"yaxis\":\"y\",\"type\":\"scatter\"},{\"hoverinfo\":\"text\",\"marker\":{\"color\":\"rgb(0,116,217)\"},\"mode\":\"lines\",\"x\":[945.0,945.0,955.0,955.0],\"xaxis\":\"x\",\"y\":[0.0,0.1549982368970947,0.1549982368970947,0.0],\"yaxis\":\"y\",\"type\":\"scatter\"},{\"hoverinfo\":\"text\",\"marker\":{\"color\":\"rgb(0,116,217)\"},\"mode\":\"lines\",\"x\":[935.0,935.0,950.0,950.0],\"xaxis\":\"x\",\"y\":[0.0,0.28722805212396574,0.28722805212396574,0.1549982368970947],\"yaxis\":\"y\",\"type\":\"scatter\"},{\"hoverinfo\":\"text\",\"marker\":{\"color\":\"rgb(0,116,217)\"},\"mode\":\"lines\",\"x\":[965.0,965.0,975.0,975.0],\"xaxis\":\"x\",\"y\":[0.0,0.10786210118850593,0.10786210118850593,0.0],\"yaxis\":\"y\",\"type\":\"scatter\"},{\"hoverinfo\":\"text\",\"marker\":{\"color\":\"rgb(0,116,217)\"},\"mode\":\"lines\",\"x\":[985.0,985.0,995.0,995.0],\"xaxis\":\"x\",\"y\":[0.0,0.12145780184386165,0.12145780184386165,0.0],\"yaxis\":\"y\",\"type\":\"scatter\"},{\"hoverinfo\":\"text\",\"marker\":{\"color\":\"rgb(0,116,217)\"},\"mode\":\"lines\",\"x\":[970.0,970.0,990.0,990.0],\"xaxis\":\"x\",\"y\":[0.10786210118850593,0.3572264654034567,0.3572264654034567,0.12145780184386165],\"yaxis\":\"y\",\"type\":\"scatter\"},{\"hoverinfo\":\"text\",\"marker\":{\"color\":\"rgb(0,116,217)\"},\"mode\":\"lines\",\"x\":[942.5,942.5,980.0,980.0],\"xaxis\":\"x\",\"y\":[0.28722805212396574,0.6133451557743755,0.6133451557743755,0.3572264654034567],\"yaxis\":\"y\",\"type\":\"scatter\"},{\"hoverinfo\":\"text\",\"marker\":{\"color\":\"rgb(0,116,217)\"},\"mode\":\"lines\",\"x\":[912.5,912.5,961.25,961.25],\"xaxis\":\"x\",\"y\":[0.4856794131982546,1.0522663473970164,1.0522663473970164,0.6133451557743755],\"yaxis\":\"y\",\"type\":\"scatter\"},{\"hoverinfo\":\"text\",\"marker\":{\"color\":\"rgb(0,116,217)\"},\"mode\":\"lines\",\"x\":[895.0,895.0,936.875,936.875],\"xaxis\":\"x\",\"y\":[0.0,1.3872049254999175,1.3872049254999175,1.0522663473970164],\"yaxis\":\"y\",\"type\":\"scatter\"},{\"hoverinfo\":\"text\",\"marker\":{\"color\":\"rgb(0,116,217)\"},\"mode\":\"lines\",\"x\":[1035.0,1035.0,1045.0,1045.0],\"xaxis\":\"x\",\"y\":[0.0,0.011445559135701154,0.011445559135701154,0.0],\"yaxis\":\"y\",\"type\":\"scatter\"},{\"hoverinfo\":\"text\",\"marker\":{\"color\":\"rgb(0,116,217)\"},\"mode\":\"lines\",\"x\":[1025.0,1025.0,1040.0,1040.0],\"xaxis\":\"x\",\"y\":[0.0,0.06214780539363235,0.06214780539363235,0.011445559135701154],\"yaxis\":\"y\",\"type\":\"scatter\"},{\"hoverinfo\":\"text\",\"marker\":{\"color\":\"rgb(0,116,217)\"},\"mode\":\"lines\",\"x\":[1015.0,1015.0,1032.5,1032.5],\"xaxis\":\"x\",\"y\":[0.0,0.10690092513396082,0.10690092513396082,0.06214780539363235],\"yaxis\":\"y\",\"type\":\"scatter\"},{\"hoverinfo\":\"text\",\"marker\":{\"color\":\"rgb(0,116,217)\"},\"mode\":\"lines\",\"x\":[1005.0,1005.0,1023.75,1023.75],\"xaxis\":\"x\",\"y\":[0.0,0.2861467897714475,0.2861467897714475,0.10690092513396082],\"yaxis\":\"y\",\"type\":\"scatter\"},{\"hoverinfo\":\"text\",\"marker\":{\"color\":\"rgb(0,116,217)\"},\"mode\":\"lines\",\"x\":[1055.0,1055.0,1065.0,1065.0],\"xaxis\":\"x\",\"y\":[0.0,0.15701149474334053,0.15701149474334053,0.0],\"yaxis\":\"y\",\"type\":\"scatter\"},{\"hoverinfo\":\"text\",\"marker\":{\"color\":\"rgb(0,116,217)\"},\"mode\":\"lines\",\"x\":[1075.0,1075.0,1085.0,1085.0],\"xaxis\":\"x\",\"y\":[0.0,0.15995723019781913,0.15995723019781913,0.0],\"yaxis\":\"y\",\"type\":\"scatter\"},{\"hoverinfo\":\"text\",\"marker\":{\"color\":\"rgb(0,116,217)\"},\"mode\":\"lines\",\"x\":[1095.0,1095.0,1105.0,1105.0],\"xaxis\":\"x\",\"y\":[0.0,0.11942903646680648,0.11942903646680648,0.0],\"yaxis\":\"y\",\"type\":\"scatter\"},{\"hoverinfo\":\"text\",\"marker\":{\"color\":\"rgb(0,116,217)\"},\"mode\":\"lines\",\"x\":[1125.0,1125.0,1135.0,1135.0],\"xaxis\":\"x\",\"y\":[0.0,0.06740481035033671,0.06740481035033671,0.0],\"yaxis\":\"y\",\"type\":\"scatter\"},{\"hoverinfo\":\"text\",\"marker\":{\"color\":\"rgb(0,116,217)\"},\"mode\":\"lines\",\"x\":[1115.0,1115.0,1130.0,1130.0],\"xaxis\":\"x\",\"y\":[0.0,0.14674948296429446,0.14674948296429446,0.06740481035033671],\"yaxis\":\"y\",\"type\":\"scatter\"},{\"hoverinfo\":\"text\",\"marker\":{\"color\":\"rgb(0,116,217)\"},\"mode\":\"lines\",\"x\":[1100.0,1100.0,1122.5,1122.5],\"xaxis\":\"x\",\"y\":[0.11942903646680648,0.2548832241040137,0.2548832241040137,0.14674948296429446],\"yaxis\":\"y\",\"type\":\"scatter\"},{\"hoverinfo\":\"text\",\"marker\":{\"color\":\"rgb(0,116,217)\"},\"mode\":\"lines\",\"x\":[1080.0,1080.0,1111.25,1111.25],\"xaxis\":\"x\",\"y\":[0.15995723019781913,0.3746918975833653,0.3746918975833653,0.2548832241040137],\"yaxis\":\"y\",\"type\":\"scatter\"},{\"hoverinfo\":\"text\",\"marker\":{\"color\":\"rgb(0,116,217)\"},\"mode\":\"lines\",\"x\":[1060.0,1060.0,1095.625,1095.625],\"xaxis\":\"x\",\"y\":[0.15701149474334053,0.46905317528730167,0.46905317528730167,0.3746918975833653],\"yaxis\":\"y\",\"type\":\"scatter\"},{\"hoverinfo\":\"text\",\"marker\":{\"color\":\"rgb(0,116,217)\"},\"mode\":\"lines\",\"x\":[1014.375,1014.375,1077.8125,1077.8125],\"xaxis\":\"x\",\"y\":[0.2861467897714475,0.7786186245181305,0.7786186245181305,0.46905317528730167],\"yaxis\":\"y\",\"type\":\"scatter\"},{\"hoverinfo\":\"text\",\"marker\":{\"color\":\"rgb(0,116,217)\"},\"mode\":\"lines\",\"x\":[1155.0,1155.0,1165.0,1165.0],\"xaxis\":\"x\",\"y\":[0.0,0.043652854725123036,0.043652854725123036,0.0],\"yaxis\":\"y\",\"type\":\"scatter\"},{\"hoverinfo\":\"text\",\"marker\":{\"color\":\"rgb(0,116,217)\"},\"mode\":\"lines\",\"x\":[1175.0,1175.0,1185.0,1185.0],\"xaxis\":\"x\",\"y\":[0.0,0.0996803234322258,0.0996803234322258,0.0],\"yaxis\":\"y\",\"type\":\"scatter\"},{\"hoverinfo\":\"text\",\"marker\":{\"color\":\"rgb(0,116,217)\"},\"mode\":\"lines\",\"x\":[1160.0,1160.0,1180.0,1180.0],\"xaxis\":\"x\",\"y\":[0.043652854725123036,0.24610693122596564,0.24610693122596564,0.0996803234322258],\"yaxis\":\"y\",\"type\":\"scatter\"},{\"hoverinfo\":\"text\",\"marker\":{\"color\":\"rgb(0,116,217)\"},\"mode\":\"lines\",\"x\":[1145.0,1145.0,1170.0,1170.0],\"xaxis\":\"x\",\"y\":[0.0,0.3000016892075773,0.3000016892075773,0.24610693122596564],\"yaxis\":\"y\",\"type\":\"scatter\"},{\"hoverinfo\":\"text\",\"marker\":{\"color\":\"rgb(0,116,217)\"},\"mode\":\"lines\",\"x\":[1195.0,1195.0,1205.0,1205.0],\"xaxis\":\"x\",\"y\":[0.0,0.13230071340336053,0.13230071340336053,0.0],\"yaxis\":\"y\",\"type\":\"scatter\"},{\"hoverinfo\":\"text\",\"marker\":{\"color\":\"rgb(0,116,217)\"},\"mode\":\"lines\",\"x\":[1225.0,1225.0,1235.0,1235.0],\"xaxis\":\"x\",\"y\":[0.0,0.08393373456973255,0.08393373456973255,0.0],\"yaxis\":\"y\",\"type\":\"scatter\"},{\"hoverinfo\":\"text\",\"marker\":{\"color\":\"rgb(0,116,217)\"},\"mode\":\"lines\",\"x\":[1215.0,1215.0,1230.0,1230.0],\"xaxis\":\"x\",\"y\":[0.0,0.1441565193195444,0.1441565193195444,0.08393373456973255],\"yaxis\":\"y\",\"type\":\"scatter\"},{\"hoverinfo\":\"text\",\"marker\":{\"color\":\"rgb(0,116,217)\"},\"mode\":\"lines\",\"x\":[1200.0,1200.0,1222.5,1222.5],\"xaxis\":\"x\",\"y\":[0.13230071340336053,0.30537947027423756,0.30537947027423756,0.1441565193195444],\"yaxis\":\"y\",\"type\":\"scatter\"},{\"hoverinfo\":\"text\",\"marker\":{\"color\":\"rgb(0,116,217)\"},\"mode\":\"lines\",\"x\":[1245.0,1245.0,1255.0,1255.0],\"xaxis\":\"x\",\"y\":[0.0,0.05919022499216734,0.05919022499216734,0.0],\"yaxis\":\"y\",\"type\":\"scatter\"},{\"hoverinfo\":\"text\",\"marker\":{\"color\":\"rgb(0,116,217)\"},\"mode\":\"lines\",\"x\":[1265.0,1265.0,1275.0,1275.0],\"xaxis\":\"x\",\"y\":[0.0,0.14271216373112114,0.14271216373112114,0.0],\"yaxis\":\"y\",\"type\":\"scatter\"},{\"hoverinfo\":\"text\",\"marker\":{\"color\":\"rgb(0,116,217)\"},\"mode\":\"lines\",\"x\":[1250.0,1250.0,1270.0,1270.0],\"xaxis\":\"x\",\"y\":[0.05919022499216734,0.3834212740664655,0.3834212740664655,0.14271216373112114],\"yaxis\":\"y\",\"type\":\"scatter\"},{\"hoverinfo\":\"text\",\"marker\":{\"color\":\"rgb(0,116,217)\"},\"mode\":\"lines\",\"x\":[1211.25,1211.25,1260.0,1260.0],\"xaxis\":\"x\",\"y\":[0.30537947027423756,0.6353698952974256,0.6353698952974256,0.3834212740664655],\"yaxis\":\"y\",\"type\":\"scatter\"},{\"hoverinfo\":\"text\",\"marker\":{\"color\":\"rgb(0,116,217)\"},\"mode\":\"lines\",\"x\":[1157.5,1157.5,1235.625,1235.625],\"xaxis\":\"x\",\"y\":[0.3000016892075773,0.9621511413218107,0.9621511413218107,0.6353698952974256],\"yaxis\":\"y\",\"type\":\"scatter\"},{\"hoverinfo\":\"text\",\"marker\":{\"color\":\"rgb(0,116,217)\"},\"mode\":\"lines\",\"x\":[1046.09375,1046.09375,1196.5625,1196.5625],\"xaxis\":\"x\",\"y\":[0.7786186245181305,1.5995512228369781,1.5995512228369781,0.9621511413218107],\"yaxis\":\"y\",\"type\":\"scatter\"},{\"hoverinfo\":\"text\",\"marker\":{\"color\":\"rgb(0,116,217)\"},\"mode\":\"lines\",\"x\":[1295.0,1295.0,1305.0,1305.0],\"xaxis\":\"x\",\"y\":[0.0,0.09268419554363212,0.09268419554363212,0.0],\"yaxis\":\"y\",\"type\":\"scatter\"},{\"hoverinfo\":\"text\",\"marker\":{\"color\":\"rgb(0,116,217)\"},\"mode\":\"lines\",\"x\":[1285.0,1285.0,1300.0,1300.0],\"xaxis\":\"x\",\"y\":[0.0,0.3914972780920591,0.3914972780920591,0.09268419554363212],\"yaxis\":\"y\",\"type\":\"scatter\"},{\"hoverinfo\":\"text\",\"marker\":{\"color\":\"rgb(0,116,217)\"},\"mode\":\"lines\",\"x\":[1315.0,1315.0,1325.0,1325.0],\"xaxis\":\"x\",\"y\":[0.0,0.10569741933109333,0.10569741933109333,0.0],\"yaxis\":\"y\",\"type\":\"scatter\"},{\"hoverinfo\":\"text\",\"marker\":{\"color\":\"rgb(0,116,217)\"},\"mode\":\"lines\",\"x\":[1345.0,1345.0,1355.0,1355.0],\"xaxis\":\"x\",\"y\":[0.0,0.0,0.0,0.0],\"yaxis\":\"y\",\"type\":\"scatter\"},{\"hoverinfo\":\"text\",\"marker\":{\"color\":\"rgb(0,116,217)\"},\"mode\":\"lines\",\"x\":[1335.0,1335.0,1350.0,1350.0],\"xaxis\":\"x\",\"y\":[0.0,0.12401589958459854,0.12401589958459854,0.0],\"yaxis\":\"y\",\"type\":\"scatter\"},{\"hoverinfo\":\"text\",\"marker\":{\"color\":\"rgb(0,116,217)\"},\"mode\":\"lines\",\"x\":[1320.0,1320.0,1342.5,1342.5],\"xaxis\":\"x\",\"y\":[0.10569741933109333,0.33239907488313664,0.33239907488313664,0.12401589958459854],\"yaxis\":\"y\",\"type\":\"scatter\"},{\"hoverinfo\":\"text\",\"marker\":{\"color\":\"rgb(0,116,217)\"},\"mode\":\"lines\",\"x\":[1375.0,1375.0,1385.0,1385.0],\"xaxis\":\"x\",\"y\":[0.0,0.2278630050661636,0.2278630050661636,0.0],\"yaxis\":\"y\",\"type\":\"scatter\"},{\"hoverinfo\":\"text\",\"marker\":{\"color\":\"rgb(0,116,217)\"},\"mode\":\"lines\",\"x\":[1365.0,1365.0,1380.0,1380.0],\"xaxis\":\"x\",\"y\":[0.0,0.40243904193663244,0.40243904193663244,0.2278630050661636],\"yaxis\":\"y\",\"type\":\"scatter\"},{\"hoverinfo\":\"text\",\"marker\":{\"color\":\"rgb(0,116,217)\"},\"mode\":\"lines\",\"x\":[1331.25,1331.25,1372.5,1372.5],\"xaxis\":\"x\",\"y\":[0.33239907488313664,0.673334262491893,0.673334262491893,0.40243904193663244],\"yaxis\":\"y\",\"type\":\"scatter\"},{\"hoverinfo\":\"text\",\"marker\":{\"color\":\"rgb(0,116,217)\"},\"mode\":\"lines\",\"x\":[1405.0,1405.0,1415.0,1415.0],\"xaxis\":\"x\",\"y\":[0.0,0.13593600206963508,0.13593600206963508,0.0],\"yaxis\":\"y\",\"type\":\"scatter\"},{\"hoverinfo\":\"text\",\"marker\":{\"color\":\"rgb(0,116,217)\"},\"mode\":\"lines\",\"x\":[1395.0,1395.0,1410.0,1410.0],\"xaxis\":\"x\",\"y\":[0.0,0.27614112215500225,0.27614112215500225,0.13593600206963508],\"yaxis\":\"y\",\"type\":\"scatter\"},{\"hoverinfo\":\"text\",\"marker\":{\"color\":\"rgb(0,116,217)\"},\"mode\":\"lines\",\"x\":[1435.0,1435.0,1445.0,1445.0],\"xaxis\":\"x\",\"y\":[0.0,0.06481686495779468,0.06481686495779468,0.0],\"yaxis\":\"y\",\"type\":\"scatter\"},{\"hoverinfo\":\"text\",\"marker\":{\"color\":\"rgb(0,116,217)\"},\"mode\":\"lines\",\"x\":[1425.0,1425.0,1440.0,1440.0],\"xaxis\":\"x\",\"y\":[0.0,0.14608658890461318,0.14608658890461318,0.06481686495779468],\"yaxis\":\"y\",\"type\":\"scatter\"},{\"hoverinfo\":\"text\",\"marker\":{\"color\":\"rgb(0,116,217)\"},\"mode\":\"lines\",\"x\":[1455.0,1455.0,1465.0,1465.0],\"xaxis\":\"x\",\"y\":[0.0,0.1873234129962432,0.1873234129962432,0.0],\"yaxis\":\"y\",\"type\":\"scatter\"},{\"hoverinfo\":\"text\",\"marker\":{\"color\":\"rgb(0,116,217)\"},\"mode\":\"lines\",\"x\":[1432.5,1432.5,1460.0,1460.0],\"xaxis\":\"x\",\"y\":[0.14608658890461318,0.4095164242046938,0.4095164242046938,0.1873234129962432],\"yaxis\":\"y\",\"type\":\"scatter\"},{\"hoverinfo\":\"text\",\"marker\":{\"color\":\"rgb(0,116,217)\"},\"mode\":\"lines\",\"x\":[1402.5,1402.5,1446.25,1446.25],\"xaxis\":\"x\",\"y\":[0.27614112215500225,0.5692448122416306,0.5692448122416306,0.4095164242046938],\"yaxis\":\"y\",\"type\":\"scatter\"},{\"hoverinfo\":\"text\",\"marker\":{\"color\":\"rgb(0,116,217)\"},\"mode\":\"lines\",\"x\":[1485.0,1485.0,1495.0,1495.0],\"xaxis\":\"x\",\"y\":[0.0,0.07485825263999042,0.07485825263999042,0.0],\"yaxis\":\"y\",\"type\":\"scatter\"},{\"hoverinfo\":\"text\",\"marker\":{\"color\":\"rgb(0,116,217)\"},\"mode\":\"lines\",\"x\":[1475.0,1475.0,1490.0,1490.0],\"xaxis\":\"x\",\"y\":[0.0,0.5727707745592825,0.5727707745592825,0.07485825263999042],\"yaxis\":\"y\",\"type\":\"scatter\"},{\"hoverinfo\":\"text\",\"marker\":{\"color\":\"rgb(0,116,217)\"},\"mode\":\"lines\",\"x\":[1424.375,1424.375,1482.5,1482.5],\"xaxis\":\"x\",\"y\":[0.5692448122416306,1.0609230402386705,1.0609230402386705,0.5727707745592825],\"yaxis\":\"y\",\"type\":\"scatter\"},{\"hoverinfo\":\"text\",\"marker\":{\"color\":\"rgb(0,116,217)\"},\"mode\":\"lines\",\"x\":[1351.875,1351.875,1453.4375,1453.4375],\"xaxis\":\"x\",\"y\":[0.673334262491893,1.15521923476942,1.15521923476942,1.0609230402386705],\"yaxis\":\"y\",\"type\":\"scatter\"},{\"hoverinfo\":\"text\",\"marker\":{\"color\":\"rgb(0,116,217)\"},\"mode\":\"lines\",\"x\":[1292.5,1292.5,1402.65625,1402.65625],\"xaxis\":\"x\",\"y\":[0.3914972780920591,1.6777712911454001,1.6777712911454001,1.15521923476942],\"yaxis\":\"y\",\"type\":\"scatter\"},{\"hoverinfo\":\"text\",\"marker\":{\"color\":\"rgb(0,116,217)\"},\"mode\":\"lines\",\"x\":[1121.328125,1121.328125,1347.578125,1347.578125],\"xaxis\":\"x\",\"y\":[1.5995512228369781,2.097728728812216,2.097728728812216,1.6777712911454001],\"yaxis\":\"y\",\"type\":\"scatter\"},{\"hoverinfo\":\"text\",\"marker\":{\"color\":\"rgb(0,116,217)\"},\"mode\":\"lines\",\"x\":[915.9375,915.9375,1234.453125,1234.453125],\"xaxis\":\"x\",\"y\":[1.3872049254999175,3.1714599133250223,3.1714599133250223,2.097728728812216],\"yaxis\":\"y\",\"type\":\"scatter\"},{\"hoverinfo\":\"text\",\"marker\":{\"color\":\"rgb(0,116,217)\"},\"mode\":\"lines\",\"x\":[749.4921875,749.4921875,1075.1953125,1075.1953125],\"xaxis\":\"x\",\"y\":[2.069589191890011,4.7527936071901165,4.7527936071901165,3.1714599133250223],\"yaxis\":\"y\",\"type\":\"scatter\"},{\"hoverinfo\":\"text\",\"marker\":{\"color\":\"rgb(0,116,217)\"},\"mode\":\"lines\",\"x\":[463.96484375,463.96484375,912.34375,912.34375],\"xaxis\":\"x\",\"y\":[2.9069888715125742,5.871303812869839,5.871303812869839,4.7527936071901165],\"yaxis\":\"y\",\"type\":\"scatter\"},{\"hoverinfo\":\"text\",\"marker\":{\"color\":\"rgb(0,116,217)\"},\"mode\":\"lines\",\"x\":[79.1015625,79.1015625,688.154296875,688.154296875],\"xaxis\":\"x\",\"y\":[3.0024144315110615,6.813667231464726,6.813667231464726,5.871303812869839],\"yaxis\":\"y\",\"type\":\"scatter\"}],                        {\"autosize\":false,\"height\":500,\"hovermode\":\"closest\",\"showlegend\":false,\"width\":800,\"xaxis\":{\"mirror\":\"allticks\",\"rangemode\":\"tozero\",\"showgrid\":false,\"showline\":true,\"showticklabels\":true,\"tickmode\":\"array\",\"ticks\":\"outside\",\"ticktext\":[\"118\",\"130\",\"102\",\"107\",\"122\",\"105\",\"135\",\"109\",\"117\",\"131\",\"56\",\"85\",\"86\",\"70\",\"51\",\"65\",\"116\",\"147\",\"77\",\"137\",\"104\",\"112\",\"145\",\"140\",\"129\",\"139\",\"141\",\"100\",\"120\",\"143\",\"125\",\"144\",\"50\",\"52\",\"110\",\"115\",\"148\",\"124\",\"136\",\"15\",\"32\",\"14\",\"33\",\"19\",\"46\",\"21\",\"48\",\"10\",\"44\",\"18\",\"5\",\"16\",\"22\",\"4\",\"0\",\"40\",\"17\",\"27\",\"36\",\"31\",\"20\",\"43\",\"23\",\"26\",\"28\",\"39\",\"35\",\"49\",\"6\",\"11\",\"7\",\"24\",\"41\",\"8\",\"13\",\"38\",\"42\",\"29\",\"2\",\"47\",\"25\",\"1\",\"45\",\"30\",\"37\",\"9\",\"34\",\"3\",\"12\",\"60\",\"98\",\"57\",\"93\",\"106\",\"53\",\"62\",\"80\",\"81\",\"69\",\"89\",\"75\",\"127\",\"149\",\"58\",\"138\",\"71\",\"73\",\"61\",\"66\",\"74\",\"91\",\"97\",\"63\",\"78\",\"64\",\"88\",\"95\",\"84\",\"96\",\"55\",\"99\",\"94\",\"67\",\"82\",\"59\",\"79\",\"90\",\"92\",\"87\",\"68\",\"119\",\"83\",\"121\",\"134\",\"101\",\"142\",\"146\",\"72\",\"113\",\"123\",\"111\",\"114\",\"54\",\"126\",\"133\",\"76\",\"103\",\"108\",\"128\",\"132\"],\"tickvals\":[5,15,25,35,45,55,65,75,85,95,105,115,125,135,145,155,165,175,185,195,205,215,225,235,245,255,265,275,285,295,305,315,325,335,345,355,365,375,385,395,405,415,425,435,445,455,465,475,485,495,505,515,525,535,545,555,565,575,585,595,605,615,625,635,645,655,665,675,685,695,705,715,725,735,745,755,765,775,785,795,805,815,825,835,845,855,865,875,885,895,905,915,925,935,945,955,965,975,985,995,1005,1015,1025,1035,1045,1055,1065,1075,1085,1095,1105,1115,1125,1135,1145,1155,1165,1175,1185,1195,1205,1215,1225,1235,1245,1255,1265,1275,1285,1295,1305,1315,1325,1335,1345,1355,1365,1375,1385,1395,1405,1415,1425,1435,1445,1455,1465,1475,1485,1495],\"type\":\"linear\",\"zeroline\":false},\"yaxis\":{\"mirror\":\"allticks\",\"rangemode\":\"tozero\",\"showgrid\":false,\"showline\":true,\"showticklabels\":true,\"ticks\":\"outside\",\"type\":\"linear\",\"zeroline\":false},\"template\":{\"data\":{\"histogram2dcontour\":[{\"type\":\"histogram2dcontour\",\"colorbar\":{\"outlinewidth\":0,\"ticks\":\"\"},\"colorscale\":[[0.0,\"#0d0887\"],[0.1111111111111111,\"#46039f\"],[0.2222222222222222,\"#7201a8\"],[0.3333333333333333,\"#9c179e\"],[0.4444444444444444,\"#bd3786\"],[0.5555555555555556,\"#d8576b\"],[0.6666666666666666,\"#ed7953\"],[0.7777777777777778,\"#fb9f3a\"],[0.8888888888888888,\"#fdca26\"],[1.0,\"#f0f921\"]]}],\"choropleth\":[{\"type\":\"choropleth\",\"colorbar\":{\"outlinewidth\":0,\"ticks\":\"\"}}],\"histogram2d\":[{\"type\":\"histogram2d\",\"colorbar\":{\"outlinewidth\":0,\"ticks\":\"\"},\"colorscale\":[[0.0,\"#0d0887\"],[0.1111111111111111,\"#46039f\"],[0.2222222222222222,\"#7201a8\"],[0.3333333333333333,\"#9c179e\"],[0.4444444444444444,\"#bd3786\"],[0.5555555555555556,\"#d8576b\"],[0.6666666666666666,\"#ed7953\"],[0.7777777777777778,\"#fb9f3a\"],[0.8888888888888888,\"#fdca26\"],[1.0,\"#f0f921\"]]}],\"heatmap\":[{\"type\":\"heatmap\",\"colorbar\":{\"outlinewidth\":0,\"ticks\":\"\"},\"colorscale\":[[0.0,\"#0d0887\"],[0.1111111111111111,\"#46039f\"],[0.2222222222222222,\"#7201a8\"],[0.3333333333333333,\"#9c179e\"],[0.4444444444444444,\"#bd3786\"],[0.5555555555555556,\"#d8576b\"],[0.6666666666666666,\"#ed7953\"],[0.7777777777777778,\"#fb9f3a\"],[0.8888888888888888,\"#fdca26\"],[1.0,\"#f0f921\"]]}],\"heatmapgl\":[{\"type\":\"heatmapgl\",\"colorbar\":{\"outlinewidth\":0,\"ticks\":\"\"},\"colorscale\":[[0.0,\"#0d0887\"],[0.1111111111111111,\"#46039f\"],[0.2222222222222222,\"#7201a8\"],[0.3333333333333333,\"#9c179e\"],[0.4444444444444444,\"#bd3786\"],[0.5555555555555556,\"#d8576b\"],[0.6666666666666666,\"#ed7953\"],[0.7777777777777778,\"#fb9f3a\"],[0.8888888888888888,\"#fdca26\"],[1.0,\"#f0f921\"]]}],\"contourcarpet\":[{\"type\":\"contourcarpet\",\"colorbar\":{\"outlinewidth\":0,\"ticks\":\"\"}}],\"contour\":[{\"type\":\"contour\",\"colorbar\":{\"outlinewidth\":0,\"ticks\":\"\"},\"colorscale\":[[0.0,\"#0d0887\"],[0.1111111111111111,\"#46039f\"],[0.2222222222222222,\"#7201a8\"],[0.3333333333333333,\"#9c179e\"],[0.4444444444444444,\"#bd3786\"],[0.5555555555555556,\"#d8576b\"],[0.6666666666666666,\"#ed7953\"],[0.7777777777777778,\"#fb9f3a\"],[0.8888888888888888,\"#fdca26\"],[1.0,\"#f0f921\"]]}],\"surface\":[{\"type\":\"surface\",\"colorbar\":{\"outlinewidth\":0,\"ticks\":\"\"},\"colorscale\":[[0.0,\"#0d0887\"],[0.1111111111111111,\"#46039f\"],[0.2222222222222222,\"#7201a8\"],[0.3333333333333333,\"#9c179e\"],[0.4444444444444444,\"#bd3786\"],[0.5555555555555556,\"#d8576b\"],[0.6666666666666666,\"#ed7953\"],[0.7777777777777778,\"#fb9f3a\"],[0.8888888888888888,\"#fdca26\"],[1.0,\"#f0f921\"]]}],\"mesh3d\":[{\"type\":\"mesh3d\",\"colorbar\":{\"outlinewidth\":0,\"ticks\":\"\"}}],\"scatter\":[{\"fillpattern\":{\"fillmode\":\"overlay\",\"size\":10,\"solidity\":0.2},\"type\":\"scatter\"}],\"parcoords\":[{\"type\":\"parcoords\",\"line\":{\"colorbar\":{\"outlinewidth\":0,\"ticks\":\"\"}}}],\"scatterpolargl\":[{\"type\":\"scatterpolargl\",\"marker\":{\"colorbar\":{\"outlinewidth\":0,\"ticks\":\"\"}}}],\"bar\":[{\"error_x\":{\"color\":\"#2a3f5f\"},\"error_y\":{\"color\":\"#2a3f5f\"},\"marker\":{\"line\":{\"color\":\"#E5ECF6\",\"width\":0.5},\"pattern\":{\"fillmode\":\"overlay\",\"size\":10,\"solidity\":0.2}},\"type\":\"bar\"}],\"scattergeo\":[{\"type\":\"scattergeo\",\"marker\":{\"colorbar\":{\"outlinewidth\":0,\"ticks\":\"\"}}}],\"scatterpolar\":[{\"type\":\"scatterpolar\",\"marker\":{\"colorbar\":{\"outlinewidth\":0,\"ticks\":\"\"}}}],\"histogram\":[{\"marker\":{\"pattern\":{\"fillmode\":\"overlay\",\"size\":10,\"solidity\":0.2}},\"type\":\"histogram\"}],\"scattergl\":[{\"type\":\"scattergl\",\"marker\":{\"colorbar\":{\"outlinewidth\":0,\"ticks\":\"\"}}}],\"scatter3d\":[{\"type\":\"scatter3d\",\"line\":{\"colorbar\":{\"outlinewidth\":0,\"ticks\":\"\"}},\"marker\":{\"colorbar\":{\"outlinewidth\":0,\"ticks\":\"\"}}}],\"scattermapbox\":[{\"type\":\"scattermapbox\",\"marker\":{\"colorbar\":{\"outlinewidth\":0,\"ticks\":\"\"}}}],\"scatterternary\":[{\"type\":\"scatterternary\",\"marker\":{\"colorbar\":{\"outlinewidth\":0,\"ticks\":\"\"}}}],\"scattercarpet\":[{\"type\":\"scattercarpet\",\"marker\":{\"colorbar\":{\"outlinewidth\":0,\"ticks\":\"\"}}}],\"carpet\":[{\"aaxis\":{\"endlinecolor\":\"#2a3f5f\",\"gridcolor\":\"white\",\"linecolor\":\"white\",\"minorgridcolor\":\"white\",\"startlinecolor\":\"#2a3f5f\"},\"baxis\":{\"endlinecolor\":\"#2a3f5f\",\"gridcolor\":\"white\",\"linecolor\":\"white\",\"minorgridcolor\":\"white\",\"startlinecolor\":\"#2a3f5f\"},\"type\":\"carpet\"}],\"table\":[{\"cells\":{\"fill\":{\"color\":\"#EBF0F8\"},\"line\":{\"color\":\"white\"}},\"header\":{\"fill\":{\"color\":\"#C8D4E3\"},\"line\":{\"color\":\"white\"}},\"type\":\"table\"}],\"barpolar\":[{\"marker\":{\"line\":{\"color\":\"#E5ECF6\",\"width\":0.5},\"pattern\":{\"fillmode\":\"overlay\",\"size\":10,\"solidity\":0.2}},\"type\":\"barpolar\"}],\"pie\":[{\"automargin\":true,\"type\":\"pie\"}]},\"layout\":{\"autotypenumbers\":\"strict\",\"colorway\":[\"#636efa\",\"#EF553B\",\"#00cc96\",\"#ab63fa\",\"#FFA15A\",\"#19d3f3\",\"#FF6692\",\"#B6E880\",\"#FF97FF\",\"#FECB52\"],\"font\":{\"color\":\"#2a3f5f\"},\"hovermode\":\"closest\",\"hoverlabel\":{\"align\":\"left\"},\"paper_bgcolor\":\"white\",\"plot_bgcolor\":\"#E5ECF6\",\"polar\":{\"bgcolor\":\"#E5ECF6\",\"angularaxis\":{\"gridcolor\":\"white\",\"linecolor\":\"white\",\"ticks\":\"\"},\"radialaxis\":{\"gridcolor\":\"white\",\"linecolor\":\"white\",\"ticks\":\"\"}},\"ternary\":{\"bgcolor\":\"#E5ECF6\",\"aaxis\":{\"gridcolor\":\"white\",\"linecolor\":\"white\",\"ticks\":\"\"},\"baxis\":{\"gridcolor\":\"white\",\"linecolor\":\"white\",\"ticks\":\"\"},\"caxis\":{\"gridcolor\":\"white\",\"linecolor\":\"white\",\"ticks\":\"\"}},\"coloraxis\":{\"colorbar\":{\"outlinewidth\":0,\"ticks\":\"\"}},\"colorscale\":{\"sequential\":[[0.0,\"#0d0887\"],[0.1111111111111111,\"#46039f\"],[0.2222222222222222,\"#7201a8\"],[0.3333333333333333,\"#9c179e\"],[0.4444444444444444,\"#bd3786\"],[0.5555555555555556,\"#d8576b\"],[0.6666666666666666,\"#ed7953\"],[0.7777777777777778,\"#fb9f3a\"],[0.8888888888888888,\"#fdca26\"],[1.0,\"#f0f921\"]],\"sequentialminus\":[[0.0,\"#0d0887\"],[0.1111111111111111,\"#46039f\"],[0.2222222222222222,\"#7201a8\"],[0.3333333333333333,\"#9c179e\"],[0.4444444444444444,\"#bd3786\"],[0.5555555555555556,\"#d8576b\"],[0.6666666666666666,\"#ed7953\"],[0.7777777777777778,\"#fb9f3a\"],[0.8888888888888888,\"#fdca26\"],[1.0,\"#f0f921\"]],\"diverging\":[[0,\"#8e0152\"],[0.1,\"#c51b7d\"],[0.2,\"#de77ae\"],[0.3,\"#f1b6da\"],[0.4,\"#fde0ef\"],[0.5,\"#f7f7f7\"],[0.6,\"#e6f5d0\"],[0.7,\"#b8e186\"],[0.8,\"#7fbc41\"],[0.9,\"#4d9221\"],[1,\"#276419\"]]},\"xaxis\":{\"gridcolor\":\"white\",\"linecolor\":\"white\",\"ticks\":\"\",\"title\":{\"standoff\":15},\"zerolinecolor\":\"white\",\"automargin\":true,\"zerolinewidth\":2},\"yaxis\":{\"gridcolor\":\"white\",\"linecolor\":\"white\",\"ticks\":\"\",\"title\":{\"standoff\":15},\"zerolinecolor\":\"white\",\"automargin\":true,\"zerolinewidth\":2},\"scene\":{\"xaxis\":{\"backgroundcolor\":\"#E5ECF6\",\"gridcolor\":\"white\",\"linecolor\":\"white\",\"showbackground\":true,\"ticks\":\"\",\"zerolinecolor\":\"white\",\"gridwidth\":2},\"yaxis\":{\"backgroundcolor\":\"#E5ECF6\",\"gridcolor\":\"white\",\"linecolor\":\"white\",\"showbackground\":true,\"ticks\":\"\",\"zerolinecolor\":\"white\",\"gridwidth\":2},\"zaxis\":{\"backgroundcolor\":\"#E5ECF6\",\"gridcolor\":\"white\",\"linecolor\":\"white\",\"showbackground\":true,\"ticks\":\"\",\"zerolinecolor\":\"white\",\"gridwidth\":2}},\"shapedefaults\":{\"line\":{\"color\":\"#2a3f5f\"}},\"annotationdefaults\":{\"arrowcolor\":\"#2a3f5f\",\"arrowhead\":0,\"arrowwidth\":1},\"geo\":{\"bgcolor\":\"white\",\"landcolor\":\"#E5ECF6\",\"subunitcolor\":\"white\",\"showland\":true,\"showlakes\":true,\"lakecolor\":\"white\"},\"title\":{\"x\":0.05},\"mapbox\":{\"style\":\"light\"}}}},                        {\"responsive\": true}                    ).then(function(){\n",
       "                            \n",
       "var gd = document.getElementById('9723768e-803e-4577-9769-713abff89e08');\n",
       "var x = new MutationObserver(function (mutations, observer) {{\n",
       "        var display = window.getComputedStyle(gd).display;\n",
       "        if (!display || display === 'none') {{\n",
       "            console.log([gd, 'removed!']);\n",
       "            Plotly.purge(gd);\n",
       "            observer.disconnect();\n",
       "        }}\n",
       "}});\n",
       "\n",
       "// Listen for the removal of the full notebook cells\n",
       "var notebookContainer = gd.closest('#notebook-container');\n",
       "if (notebookContainer) {{\n",
       "    x.observe(notebookContainer, {childList: true});\n",
       "}}\n",
       "\n",
       "// Listen for the clearing of the current output cell\n",
       "var outputEl = gd.closest('.output');\n",
       "if (outputEl) {{\n",
       "    x.observe(outputEl, {childList: true});\n",
       "}}\n",
       "\n",
       "                        })                };                });            </script>        </div>"
      ]
     },
     "metadata": {},
     "output_type": "display_data"
    }
   ],
   "source": [
    "# Create the Dendogram\n",
    "\n",
    "fig = ff.create_dendrogram(df_iris_pca, color_threshold=0)\n",
    "fig.update_layout(width=800, height=500)\n",
    "fig.show()"
   ]
  },
  {
   "cell_type": "code",
   "execution_count": 13,
   "id": "9ebd3557",
   "metadata": {},
   "outputs": [
    {
     "data": {
      "text/html": [
       "<div>\n",
       "<style scoped>\n",
       "    .dataframe tbody tr th:only-of-type {\n",
       "        vertical-align: middle;\n",
       "    }\n",
       "\n",
       "    .dataframe tbody tr th {\n",
       "        vertical-align: top;\n",
       "    }\n",
       "\n",
       "    .dataframe thead th {\n",
       "        text-align: right;\n",
       "    }\n",
       "</style>\n",
       "<table border=\"1\" class=\"dataframe\">\n",
       "  <thead>\n",
       "    <tr style=\"text-align: right;\">\n",
       "      <th></th>\n",
       "      <th>principal component 1</th>\n",
       "      <th>principal component 2</th>\n",
       "      <th>class</th>\n",
       "    </tr>\n",
       "  </thead>\n",
       "  <tbody>\n",
       "    <tr>\n",
       "      <th>0</th>\n",
       "      <td>-2.264542</td>\n",
       "      <td>0.505704</td>\n",
       "      <td>0</td>\n",
       "    </tr>\n",
       "    <tr>\n",
       "      <th>1</th>\n",
       "      <td>-2.086426</td>\n",
       "      <td>-0.655405</td>\n",
       "      <td>0</td>\n",
       "    </tr>\n",
       "    <tr>\n",
       "      <th>2</th>\n",
       "      <td>-2.367950</td>\n",
       "      <td>-0.318477</td>\n",
       "      <td>0</td>\n",
       "    </tr>\n",
       "    <tr>\n",
       "      <th>3</th>\n",
       "      <td>-2.304197</td>\n",
       "      <td>-0.575368</td>\n",
       "      <td>0</td>\n",
       "    </tr>\n",
       "    <tr>\n",
       "      <th>4</th>\n",
       "      <td>-2.388777</td>\n",
       "      <td>0.674767</td>\n",
       "      <td>0</td>\n",
       "    </tr>\n",
       "  </tbody>\n",
       "</table>\n",
       "</div>"
      ],
      "text/plain": [
       "   principal component 1  principal component 2  class\n",
       "0              -2.264542               0.505704      0\n",
       "1              -2.086426              -0.655405      0\n",
       "2              -2.367950              -0.318477      0\n",
       "3              -2.304197              -0.575368      0\n",
       "4              -2.388777               0.674767      0"
      ]
     },
     "execution_count": 13,
     "metadata": {},
     "output_type": "execute_result"
    }
   ],
   "source": [
    "# Agglomerative Clustering (Hierarchical Clustering)\n",
    "\n",
    "agg = AgglomerativeClustering(n_clusters=3)\n",
    "model = agg.fit(df_iris_pca)\n",
    "\n",
    "df_iris_pca['class'] = model.labels_\n",
    "df_iris_pca.head()"
   ]
  },
  {
   "cell_type": "code",
   "execution_count": 14,
   "id": "d42125b5",
   "metadata": {},
   "outputs": [
    {
     "data": {},
     "metadata": {},
     "output_type": "display_data"
    },
    {
     "data": {
      "application/vnd.holoviews_exec.v0+json": "",
      "text/html": [
       "<div id='1673'>\n",
       "\n",
       "\n",
       "\n",
       "\n",
       "\n",
       "  <div class=\"bk-root\" id=\"a5aa541b-2aa3-462e-85db-398d2335ace5\" data-root-id=\"1673\"></div>\n",
       "</div>\n",
       "<script type=\"application/javascript\">(function(root) {\n",
       "  function embed_document(root) {\n",
       "    var docs_json = {\"e842209f-dd25-4f98-9aa9-677156ecc8a8\":{\"defs\":[{\"extends\":null,\"module\":null,\"name\":\"ReactiveHTML1\",\"overrides\":[],\"properties\":[]},{\"extends\":null,\"module\":null,\"name\":\"FlexBox1\",\"overrides\":[],\"properties\":[{\"default\":\"flex-start\",\"kind\":null,\"name\":\"align_content\"},{\"default\":\"flex-start\",\"kind\":null,\"name\":\"align_items\"},{\"default\":\"row\",\"kind\":null,\"name\":\"flex_direction\"},{\"default\":\"wrap\",\"kind\":null,\"name\":\"flex_wrap\"},{\"default\":\"flex-start\",\"kind\":null,\"name\":\"justify_content\"}]},{\"extends\":null,\"module\":null,\"name\":\"TemplateActions1\",\"overrides\":[],\"properties\":[{\"default\":0,\"kind\":null,\"name\":\"open_modal\"},{\"default\":0,\"kind\":null,\"name\":\"close_modal\"}]},{\"extends\":null,\"module\":null,\"name\":\"MaterialTemplateActions1\",\"overrides\":[],\"properties\":[{\"default\":0,\"kind\":null,\"name\":\"open_modal\"},{\"default\":0,\"kind\":null,\"name\":\"close_modal\"}]}],\"roots\":{\"references\":[{\"attributes\":{},\"id\":\"1699\",\"type\":\"WheelZoomTool\"},{\"attributes\":{\"source\":{\"id\":\"1759\"}},\"id\":\"1766\",\"type\":\"CDSView\"},{\"attributes\":{\"axis\":{\"id\":\"1693\"},\"dimension\":1,\"grid_line_color\":null,\"ticker\":null},\"id\":\"1696\",\"type\":\"Grid\"},{\"attributes\":{},\"id\":\"1697\",\"type\":\"SaveTool\"},{\"attributes\":{\"margin\":[5,5,5,5],\"name\":\"HSpacer03253\",\"sizing_mode\":\"stretch_width\"},\"id\":\"1909\",\"type\":\"Spacer\"},{\"attributes\":{\"data\":{\"class\":[0,0,0,0,0,0,0,0,0,0,0,0,0,0,0,0,0,0,0,0,0,0,0,0,0,0,0,0,0,0,0,0,0,0,0,0,0,0,0,0,0,0,0,0,0,0,0,0,0,0],\"principal component 1\":{\"__ndarray__\":\"ShG/DcgdAsChflXa/7AAwCwtSgGQ8QLArXjV6/5uAsB+OOBfNxwDwLIJAJp1kADA7FhZG9GQA8C5vPx66N4BwLrvZ05UvALA49Uzb2iCAcDGACQK0k4BwICPWzp4ngLAbEHW4evKAcByYBiPIx4FwOFkYiHQiQHA78LFMQADAsDEicmkO58BwNTnRqd8hQHAE7KL2CBO/r9wMd43N7gCwDou6+IFov6/K3pNIB2jAcAjHszufzEGwHSyHOBnIP2/c29EsmPTAcBnStBn+E//v+gJWiugagDA0BcE6nVYAcD06Z27WB8BwCMNM3l7JgLA3uURJwwoAcCxCNRTnk/9v3eUD3eZ3QTAyIxIYeyAA8Dj1TNvaIIBwAXB4qBfsAHAqQtPDPdaAMDj1TNvaIIBwJ7dMoLUfAPAVSP02UddAcA84QHLzkoCwF9zDEaD8v2/X/lj5HF2BMD5iQQfsG3/v/mHnMYlEQHAoO7lFFWaAMDS+qMb0QwDwJFmoB9/LwPALZosq3LQAcDdjpZMy6UBwA==\",\"dtype\":\"float64\",\"order\":\"little\",\"shape\":[50]},\"principal component 2\":{\"__ndarray__\":\"Zu9787ku4D/1F8lWE/nkv2zYpqjuYdS/ECSQjGlp4r/O0afLsZflP7a+IZP5S/g/JiSoGooWsz9oeXQ10LHPP80IOjG4hfG/h06pnFa23L9lMKXTKCHxPyG/qP2XTMQ/pKo3kBix5r+IiXLvZwbuv9OryBtaPf4/kbWrfGrHBUBcjF03Ujj4PzP+/04udeA/70k0V9Tl9j8kpZIPTofyP2XAlsG9jNs/1fKSxId67j84u+o4P1TfPxbWDBwFVLs/Pe1BJITCxD+1YRod23Pjv2aqjuRgBtE/aoxIfx6q4T/XGaA2hIvVP2JBWpX4JtS/RQayRej43r8Jlx54QH/cP7JxJTRvQf0/wbJwma57AUCHTqmcVrbcvxnn16FhmMe/reVDvSnr5T+HTqmcVrbcv3bEP1q7Ouy/cUSP1gm80j9MwmaGk/PdP31/28YcnwLAqe8l3FML3b9essu+Q9XfP+neGJkvvvI/+Iwv2S8k5r9PqsG4/WjyP9ittwhpMde/dO6vZGBo8D/C7UmWeoGgPw==\",\"dtype\":\"float64\",\"order\":\"little\",\"shape\":[50]},\"principal_component_1\":{\"__ndarray__\":\"ShG/DcgdAsChflXa/7AAwCwtSgGQ8QLArXjV6/5uAsB+OOBfNxwDwLIJAJp1kADA7FhZG9GQA8C5vPx66N4BwLrvZ05UvALA49Uzb2iCAcDGACQK0k4BwICPWzp4ngLAbEHW4evKAcByYBiPIx4FwOFkYiHQiQHA78LFMQADAsDEicmkO58BwNTnRqd8hQHAE7KL2CBO/r9wMd43N7gCwDou6+IFov6/K3pNIB2jAcAjHszufzEGwHSyHOBnIP2/c29EsmPTAcBnStBn+E//v+gJWiugagDA0BcE6nVYAcD06Z27WB8BwCMNM3l7JgLA3uURJwwoAcCxCNRTnk/9v3eUD3eZ3QTAyIxIYeyAA8Dj1TNvaIIBwAXB4qBfsAHAqQtPDPdaAMDj1TNvaIIBwJ7dMoLUfAPAVSP02UddAcA84QHLzkoCwF9zDEaD8v2/X/lj5HF2BMD5iQQfsG3/v/mHnMYlEQHAoO7lFFWaAMDS+qMb0QwDwJFmoB9/LwPALZosq3LQAcDdjpZMy6UBwA==\",\"dtype\":\"float64\",\"order\":\"little\",\"shape\":[50]},\"principal_component_2\":{\"__ndarray__\":\"Zu9787ku4D/1F8lWE/nkv2zYpqjuYdS/ECSQjGlp4r/O0afLsZflP7a+IZP5S/g/JiSoGooWsz9oeXQ10LHPP80IOjG4hfG/h06pnFa23L9lMKXTKCHxPyG/qP2XTMQ/pKo3kBix5r+IiXLvZwbuv9OryBtaPf4/kbWrfGrHBUBcjF03Ujj4PzP+/04udeA/70k0V9Tl9j8kpZIPTofyP2XAlsG9jNs/1fKSxId67j84u+o4P1TfPxbWDBwFVLs/Pe1BJITCxD+1YRod23Pjv2aqjuRgBtE/aoxIfx6q4T/XGaA2hIvVP2JBWpX4JtS/RQayRej43r8Jlx54QH/cP7JxJTRvQf0/wbJwma57AUCHTqmcVrbcvxnn16FhmMe/reVDvSnr5T+HTqmcVrbcv3bEP1q7Ouy/cUSP1gm80j9MwmaGk/PdP31/28YcnwLAqe8l3FML3b9essu+Q9XfP+neGJkvvvI/+Iwv2S8k5r9PqsG4/WjyP9ittwhpMde/dO6vZGBo8D/C7UmWeoGgPw==\",\"dtype\":\"float64\",\"order\":\"little\",\"shape\":[50]}},\"selected\":{\"id\":\"1717\"},\"selection_policy\":{\"id\":\"1732\"}},\"id\":\"1716\",\"type\":\"ColumnDataSource\"},{\"attributes\":{\"label\":{\"value\":\"2\"},\"renderers\":[{\"id\":\"1765\"}]},\"id\":\"1781\",\"type\":\"LegendItem\"},{\"attributes\":{\"overlay\":{\"id\":\"1702\"}},\"id\":\"1700\",\"type\":\"BoxZoomTool\"},{\"attributes\":{},\"id\":\"1710\",\"type\":\"AllLabels\"},{\"attributes\":{\"data\":{\"class\":[2,2,2,2,2,2,2,2,2,2,2,2,2,2,2,2,2,2,2,2,2,2,2,2,2,2,2,2,2,2,2,2,2,2,2,2,2,2,2],\"principal component 1\":{\"__ndarray__\":\"cpicP/Wp8T/pdLjqfHDnP0lUdjeu3/M/j32nUXn15z99t9eWSwfsPwPqCkTLn+c/FnDKtFm79T9eKpbWVaLbP6RuiqhlyvA/YWhkIxGQ/T9do62QmqYBQMGof1zh4v0/c0K5SJgIBkDlZzhbjmwCQCBPaKrzIwJAaot72MPa9T85rpRF5SX+PxfRBAgNePk/eB2QGF2K9z9A9idKwH8DQDKGKwMfeQpAluf2s+9SAEA3Li1oPC8HQECoueeRRPs/pgmePdpS/z+AG1ZdIdb9P4j4bA7mewNAMrYxN1aHAkCNTjYpWGgGQLL5r95QSPk/785NdH6N9T87BRAgJqj9Pw4MxAYXIQBAt2rCqSpz/j85DlMYslgAQLh5vY12AwBA7uA1jajt/T/2gkKiYVX4Pwv05MSyBfY/\",\"dtype\":\"float64\",\"order\":\"little\",\"shape\":[39]},\"principal component 2\":{\"__ndarray__\":\"2Xb2/Z2e6z8aPDfKBSjjP9jNPSGgrOM/sV+rWRnr6D9jOXqk51HgP45BqiETwtk/RC15KGQL1T8KCD4aSF3rP8CTpAnXteA/gCzLZfDk6z8KxOkWOL7hP+9EGSLnotI/oAetLdY66T9RO0mDhTXaP76NlwE7vv4/M6EChdI05j9xp0OLbYTaPzB8aBVGquU/MTesMk400D+AOWwxPXQEQBqHpBMMWGO/QXSFImkJ7T9ukpHjaXXZP5Ba37LzOfA/m4ArfqgN8D+Q5F19r8XhP9te4qRfks8/I+E1sGwCBUBNKzVdLQjrP6SPagTbKPE/GfwD4z0G2z+9pMCrfITlP9v7O15fiOM/43YiWerz5T+4Il+gf6vrPzt452ncxvA/AEQyKieA2D9822+NKRPRPxwt0bkEQ/A/\",\"dtype\":\"float64\",\"order\":\"little\",\"shape\":[39]},\"principal_component_1\":{\"__ndarray__\":\"cpicP/Wp8T/pdLjqfHDnP0lUdjeu3/M/j32nUXn15z99t9eWSwfsPwPqCkTLn+c/FnDKtFm79T9eKpbWVaLbP6RuiqhlyvA/YWhkIxGQ/T9do62QmqYBQMGof1zh4v0/c0K5SJgIBkDlZzhbjmwCQCBPaKrzIwJAaot72MPa9T85rpRF5SX+PxfRBAgNePk/eB2QGF2K9z9A9idKwH8DQDKGKwMfeQpAluf2s+9SAEA3Li1oPC8HQECoueeRRPs/pgmePdpS/z+AG1ZdIdb9P4j4bA7mewNAMrYxN1aHAkCNTjYpWGgGQLL5r95QSPk/785NdH6N9T87BRAgJqj9Pw4MxAYXIQBAt2rCqSpz/j85DlMYslgAQLh5vY12AwBA7uA1jajt/T/2gkKiYVX4Pwv05MSyBfY/\",\"dtype\":\"float64\",\"order\":\"little\",\"shape\":[39]},\"principal_component_2\":{\"__ndarray__\":\"2Xb2/Z2e6z8aPDfKBSjjP9jNPSGgrOM/sV+rWRnr6D9jOXqk51HgP45BqiETwtk/RC15KGQL1T8KCD4aSF3rP8CTpAnXteA/gCzLZfDk6z8KxOkWOL7hP+9EGSLnotI/oAetLdY66T9RO0mDhTXaP76NlwE7vv4/M6EChdI05j9xp0OLbYTaPzB8aBVGquU/MTesMk400D+AOWwxPXQEQBqHpBMMWGO/QXSFImkJ7T9ukpHjaXXZP5Ba37LzOfA/m4ArfqgN8D+Q5F19r8XhP9te4qRfks8/I+E1sGwCBUBNKzVdLQjrP6SPagTbKPE/GfwD4z0G2z+9pMCrfITlP9v7O15fiOM/43YiWerz5T+4Il+gf6vrPzt452ncxvA/AEQyKieA2D9822+NKRPRPxwt0bkEQ/A/\",\"dtype\":\"float64\",\"order\":\"little\",\"shape\":[39]}},\"selected\":{\"id\":\"1760\"},\"selection_policy\":{\"id\":\"1779\"}},\"id\":\"1759\",\"type\":\"ColumnDataSource\"},{\"attributes\":{},\"id\":\"1701\",\"type\":\"ResetTool\"},{\"attributes\":{},\"id\":\"1712\",\"type\":\"BasicTickFormatter\"},{\"attributes\":{\"active_multi\":null,\"tools\":[{\"id\":\"1677\"},{\"id\":\"1697\"},{\"id\":\"1698\"},{\"id\":\"1699\"},{\"id\":\"1700\"},{\"id\":\"1701\"}]},\"id\":\"1703\",\"type\":\"Toolbar\"},{\"attributes\":{\"margin\":[5,5,5,5],\"name\":\"HSpacer03252\",\"sizing_mode\":\"stretch_width\"},\"id\":\"1674\",\"type\":\"Spacer\"},{\"attributes\":{},\"id\":\"1755\",\"type\":\"UnionRenderers\"},{\"attributes\":{},\"id\":\"1713\",\"type\":\"AllLabels\"},{\"attributes\":{},\"id\":\"1779\",\"type\":\"UnionRenderers\"},{\"attributes\":{\"children\":[{\"id\":\"1674\"},{\"id\":\"1680\"},{\"id\":\"1909\"}],\"margin\":[0,0,0,0],\"name\":\"Row03248\",\"tags\":[\"embedded\"]},\"id\":\"1673\",\"type\":\"Row\"},{\"attributes\":{\"data_source\":{\"id\":\"1737\"},\"glyph\":{\"id\":\"1740\"},\"hover_glyph\":null,\"muted_glyph\":{\"id\":\"1742\"},\"nonselection_glyph\":{\"id\":\"1741\"},\"selection_glyph\":{\"id\":\"1758\"},\"view\":{\"id\":\"1744\"}},\"id\":\"1743\",\"type\":\"GlyphRenderer\"},{\"attributes\":{},\"id\":\"1715\",\"type\":\"BasicTickFormatter\"},{\"attributes\":{\"end\":3.5698545102352757,\"reset_end\":3.5698545102352757,\"reset_start\":-3.0348831212643526,\"start\":-3.0348831212643526,\"tags\":[[[\"principal component 1\",\"principal component 1\",null]]]},\"id\":\"1675\",\"type\":\"Range1d\"},{\"attributes\":{},\"id\":\"1694\",\"type\":\"BasicTicker\"},{\"attributes\":{\"angle\":{\"value\":0.0},\"fill_alpha\":{\"value\":1.0},\"fill_color\":{\"value\":\"#30a2da\"},\"hatch_alpha\":{\"value\":1.0},\"hatch_color\":{\"value\":\"black\"},\"hatch_scale\":{\"value\":12.0},\"hatch_weight\":{\"value\":1.0},\"line_alpha\":{\"value\":1.0},\"line_cap\":{\"value\":\"butt\"},\"line_color\":{\"value\":\"#30a2da\"},\"line_dash\":{\"value\":[]},\"line_dash_offset\":{\"value\":0},\"line_join\":{\"value\":\"bevel\"},\"line_width\":{\"value\":1},\"marker\":{\"value\":\"circle\"},\"size\":{\"value\":5.477225575051661},\"x\":{\"field\":\"principal component 1\"},\"y\":{\"field\":\"principal component 2\"}},\"id\":\"1736\",\"type\":\"Scatter\"},{\"attributes\":{\"axis\":{\"id\":\"1689\"},\"grid_line_color\":null,\"ticker\":null},\"id\":\"1692\",\"type\":\"Grid\"},{\"attributes\":{\"end\":3.2604144520280918,\"reset_end\":3.2604144520280918,\"reset_start\":-3.1961060534153827,\"start\":-3.1961060534153827,\"tags\":[[[\"principal component 2\",\"principal component 2\",null]]]},\"id\":\"1676\",\"type\":\"Range1d\"},{\"attributes\":{},\"id\":\"1717\",\"type\":\"Selection\"},{\"attributes\":{\"text_color\":\"black\",\"text_font_size\":\"12pt\"},\"id\":\"1681\",\"type\":\"Title\"},{\"attributes\":{\"label\":{\"value\":\"0\"},\"renderers\":[{\"id\":\"1722\"}]},\"id\":\"1735\",\"type\":\"LegendItem\"},{\"attributes\":{},\"id\":\"1738\",\"type\":\"Selection\"},{\"attributes\":{\"callback\":null,\"renderers\":[{\"id\":\"1722\"},{\"id\":\"1743\"},{\"id\":\"1765\"}],\"tags\":[\"hv_created\"],\"tooltips\":[[\"class\",\"@{class}\"],[\"principal component 1\",\"@{principal_component_1}\"],[\"principal component 2\",\"@{principal_component_2}\"]]},\"id\":\"1677\",\"type\":\"HoverTool\"},{\"attributes\":{\"fill_alpha\":{\"value\":0.1},\"fill_color\":{\"value\":\"#fc4f30\"},\"line_alpha\":{\"value\":0.1},\"line_color\":{\"value\":\"#fc4f30\"},\"size\":{\"value\":5.477225575051661},\"x\":{\"field\":\"principal component 1\"},\"y\":{\"field\":\"principal component 2\"}},\"id\":\"1741\",\"type\":\"Scatter\"},{\"attributes\":{\"fill_color\":{\"value\":\"#30a2da\"},\"line_color\":{\"value\":\"#30a2da\"},\"size\":{\"value\":5.477225575051661},\"x\":{\"field\":\"principal component 1\"},\"y\":{\"field\":\"principal component 2\"}},\"id\":\"1719\",\"type\":\"Scatter\"},{\"attributes\":{\"fill_color\":{\"value\":\"#fc4f30\"},\"line_color\":{\"value\":\"#fc4f30\"},\"size\":{\"value\":5.477225575051661},\"x\":{\"field\":\"principal component 1\"},\"y\":{\"field\":\"principal component 2\"}},\"id\":\"1740\",\"type\":\"Scatter\"},{\"attributes\":{},\"id\":\"1690\",\"type\":\"BasicTicker\"},{\"attributes\":{\"axis_label\":\"principal component 1\",\"formatter\":{\"id\":\"1712\"},\"major_label_policy\":{\"id\":\"1710\"},\"ticker\":{\"id\":\"1690\"}},\"id\":\"1689\",\"type\":\"LinearAxis\"},{\"attributes\":{\"click_policy\":\"mute\",\"items\":[{\"id\":\"1735\"},{\"id\":\"1757\"},{\"id\":\"1781\"}],\"location\":[0,0],\"title\":\"class\"},\"id\":\"1734\",\"type\":\"Legend\"},{\"attributes\":{},\"id\":\"1685\",\"type\":\"LinearScale\"},{\"attributes\":{},\"id\":\"1687\",\"type\":\"LinearScale\"},{\"attributes\":{\"data_source\":{\"id\":\"1716\"},\"glyph\":{\"id\":\"1719\"},\"hover_glyph\":null,\"muted_glyph\":{\"id\":\"1721\"},\"nonselection_glyph\":{\"id\":\"1720\"},\"selection_glyph\":{\"id\":\"1736\"},\"view\":{\"id\":\"1723\"}},\"id\":\"1722\",\"type\":\"GlyphRenderer\"},{\"attributes\":{\"angle\":{\"value\":0.0},\"fill_alpha\":{\"value\":1.0},\"fill_color\":{\"value\":\"#fc4f30\"},\"hatch_alpha\":{\"value\":1.0},\"hatch_color\":{\"value\":\"black\"},\"hatch_scale\":{\"value\":12.0},\"hatch_weight\":{\"value\":1.0},\"line_alpha\":{\"value\":1.0},\"line_cap\":{\"value\":\"butt\"},\"line_color\":{\"value\":\"#fc4f30\"},\"line_dash\":{\"value\":[]},\"line_dash_offset\":{\"value\":0},\"line_join\":{\"value\":\"bevel\"},\"line_width\":{\"value\":1},\"marker\":{\"value\":\"circle\"},\"size\":{\"value\":5.477225575051661},\"x\":{\"field\":\"principal component 1\"},\"y\":{\"field\":\"principal component 2\"}},\"id\":\"1758\",\"type\":\"Scatter\"},{\"attributes\":{\"source\":{\"id\":\"1716\"}},\"id\":\"1723\",\"type\":\"CDSView\"},{\"attributes\":{\"data_source\":{\"id\":\"1759\"},\"glyph\":{\"id\":\"1762\"},\"hover_glyph\":null,\"muted_glyph\":{\"id\":\"1764\"},\"nonselection_glyph\":{\"id\":\"1763\"},\"selection_glyph\":{\"id\":\"1782\"},\"view\":{\"id\":\"1766\"}},\"id\":\"1765\",\"type\":\"GlyphRenderer\"},{\"attributes\":{\"source\":{\"id\":\"1737\"}},\"id\":\"1744\",\"type\":\"CDSView\"},{\"attributes\":{\"data\":{\"class\":[1,1,1,1,1,1,1,1,1,1,1,1,1,1,1,1,1,1,1,1,1,1,1,1,1,1,1,1,1,1,1,1,1,1,1,1,1,1,1,1,1,1,1,1,1,1,1,1,1,1,1,1,1,1,1,1,1,1,1,1,1],\"principal component 1\":{\"__ndarray__\":\"gRWMhntt2T9JnJZFWCnxP26BHlf2mtg/7P4dZv7c3790GywXnaPtP/DAkDZaWXQ/4N2FPizsv7+wz+h8JxTcP1ZNsk78puE/OUUqJwTz5j/Hz63ghxOjv5Zu06S8RdY/67Iv7V2iwz9n6iTH4XHzPyzYZACmFsQ/V61SDE473j8RyjX41qXzP4sxy7fjI+Q/G9CK7kVq5j9oiRfXA/TrP+1ho0lLEfQ/HYVVJyMw5T/BG9RSSDWov0o/fKzdHL8/RJBYOQTqjD8i3+hlmjXOPw7NWUU16PA/prCTKGVXzD/Qm78H9ZLwP6ZeE5xXK7E/dzcDdZCg0T/MfckO8G3RP6aN/lcD8eM/tt5L0c4e1T/AxBTVg+nXv9gk5ZbCG9I/P19tRC/Mtj8IJEIbubfMP/QERuZAXeI/3YxQ67I/3b/igNIAxiTQP95fCCh3c/I/rZMD/NoE9z/2oUp+m+/WP/Um68uNAwBArBA5v8SV+T9b9+RxpAz0PxniiMbLbPc//kT6XU4Q9D+KYrcHUCrvP/SKpJpgRPU/Ynz98B7A8j8e0u7vBVHwP5/aFgd+k/w/ai0H1BTE/T/g9mvcxMfxPyo2s2rVKPM/lr7xUMOM7T/eXwgod3PyP0nVWzGV7/g/Otkr7ZKy7j8=\",\"dtype\":\"float64\",\"order\":\"little\",\"shape\":[61]},\"principal component 2\":{\"__ndarray__\":\"js0hw3Uh/L+AAFcJ4hrLv/IVlNb76eK/ZJSza/eU/b9/jGFUCw+fP+jLA01tePC/8oKEXbZDBcCw9gYTsCWuv0PNqHx+XPy/13stxk+8x78rLLY26rLbvxK+JkVKZsi/k4nUeJ9N6b9d5T6HOSL6v7pAi9CC2fS/rgipiLWp2r9Ar8dW+Rvuv+bFU70Krdq/9jbCViNBsL9jnvIgnAvQP/GHsEKXJrW/XhnYPl+3zL9mBRGQV+rwv2fCfHF5BPm/aNYvdp0s+b9CnpAdXtTovw0tEs1+YeS/gm49mmj50b+2i7Pvikf2v5HHaP8nN8u/PWcLDe1G9b8nCf6DO+nxv9DFHdUiNJw/ZevEJROl77/NwuSruSQAwKNLO3SQU+u/sY5GPmdjxr9Q9kdU3FnYv3c6tZoYrcO/tPvOiaWh+L+mehyOShHjv0wIW3ZDcea/oJQzq/qaqb89lg29Jfb4v6yQnq/nKee/Z30vzm1o27+RMWiJoq3yv6evYO3pbNy/Syp0Mjl7+79GzVl8D0fivz1sHbAVJ9+/wNmJW81o1L9sqPtybMewP928S8Epvci/hYE7U1ijx7/9k4Cxb/HSv0yv2/Y8Juq/TgBbUiCxkz9MCFt2Q3Hmv7ta1TpU+Oy/kQosNprRlr8=\",\"dtype\":\"float64\",\"order\":\"little\",\"shape\":[61]},\"principal_component_1\":{\"__ndarray__\":\"gRWMhntt2T9JnJZFWCnxP26BHlf2mtg/7P4dZv7c3790GywXnaPtP/DAkDZaWXQ/4N2FPizsv7+wz+h8JxTcP1ZNsk78puE/OUUqJwTz5j/Hz63ghxOjv5Zu06S8RdY/67Iv7V2iwz9n6iTH4XHzPyzYZACmFsQ/V61SDE473j8RyjX41qXzP4sxy7fjI+Q/G9CK7kVq5j9oiRfXA/TrP+1ho0lLEfQ/HYVVJyMw5T/BG9RSSDWov0o/fKzdHL8/RJBYOQTqjD8i3+hlmjXOPw7NWUU16PA/prCTKGVXzD/Qm78H9ZLwP6ZeE5xXK7E/dzcDdZCg0T/MfckO8G3RP6aN/lcD8eM/tt5L0c4e1T/AxBTVg+nXv9gk5ZbCG9I/P19tRC/Mtj8IJEIbubfMP/QERuZAXeI/3YxQ67I/3b/igNIAxiTQP95fCCh3c/I/rZMD/NoE9z/2oUp+m+/WP/Um68uNAwBArBA5v8SV+T9b9+RxpAz0PxniiMbLbPc//kT6XU4Q9D+KYrcHUCrvP/SKpJpgRPU/Ynz98B7A8j8e0u7vBVHwP5/aFgd+k/w/ai0H1BTE/T/g9mvcxMfxPyo2s2rVKPM/lr7xUMOM7T/eXwgod3PyP0nVWzGV7/g/Otkr7ZKy7j8=\",\"dtype\":\"float64\",\"order\":\"little\",\"shape\":[61]},\"principal_component_2\":{\"__ndarray__\":\"js0hw3Uh/L+AAFcJ4hrLv/IVlNb76eK/ZJSza/eU/b9/jGFUCw+fP+jLA01tePC/8oKEXbZDBcCw9gYTsCWuv0PNqHx+XPy/13stxk+8x78rLLY26rLbvxK+JkVKZsi/k4nUeJ9N6b9d5T6HOSL6v7pAi9CC2fS/rgipiLWp2r9Ar8dW+Rvuv+bFU70Krdq/9jbCViNBsL9jnvIgnAvQP/GHsEKXJrW/XhnYPl+3zL9mBRGQV+rwv2fCfHF5BPm/aNYvdp0s+b9CnpAdXtTovw0tEs1+YeS/gm49mmj50b+2i7Pvikf2v5HHaP8nN8u/PWcLDe1G9b8nCf6DO+nxv9DFHdUiNJw/ZevEJROl77/NwuSruSQAwKNLO3SQU+u/sY5GPmdjxr9Q9kdU3FnYv3c6tZoYrcO/tPvOiaWh+L+mehyOShHjv0wIW3ZDcea/oJQzq/qaqb89lg29Jfb4v6yQnq/nKee/Z30vzm1o27+RMWiJoq3yv6evYO3pbNy/Syp0Mjl7+79GzVl8D0fivz1sHbAVJ9+/wNmJW81o1L9sqPtybMewP928S8Epvci/hYE7U1ijx7/9k4Cxb/HSv0yv2/Y8Juq/TgBbUiCxkz9MCFt2Q3Hmv7ta1TpU+Oy/kQosNprRlr8=\",\"dtype\":\"float64\",\"order\":\"little\",\"shape\":[61]}},\"selected\":{\"id\":\"1738\"},\"selection_policy\":{\"id\":\"1755\"}},\"id\":\"1737\",\"type\":\"ColumnDataSource\"},{\"attributes\":{\"angle\":{\"value\":0.0},\"fill_alpha\":{\"value\":1.0},\"fill_color\":{\"value\":\"#e5ae38\"},\"hatch_alpha\":{\"value\":1.0},\"hatch_color\":{\"value\":\"black\"},\"hatch_scale\":{\"value\":12.0},\"hatch_weight\":{\"value\":1.0},\"line_alpha\":{\"value\":1.0},\"line_cap\":{\"value\":\"butt\"},\"line_color\":{\"value\":\"#e5ae38\"},\"line_dash\":{\"value\":[]},\"line_dash_offset\":{\"value\":0},\"line_join\":{\"value\":\"bevel\"},\"line_width\":{\"value\":1},\"marker\":{\"value\":\"circle\"},\"size\":{\"value\":5.477225575051661},\"x\":{\"field\":\"principal component 1\"},\"y\":{\"field\":\"principal component 2\"}},\"id\":\"1782\",\"type\":\"Scatter\"},{\"attributes\":{\"fill_alpha\":{\"value\":0.1},\"fill_color\":{\"value\":\"#e5ae38\"},\"line_alpha\":{\"value\":0.1},\"line_color\":{\"value\":\"#e5ae38\"},\"size\":{\"value\":5.477225575051661},\"x\":{\"field\":\"principal component 1\"},\"y\":{\"field\":\"principal component 2\"}},\"id\":\"1763\",\"type\":\"Scatter\"},{\"attributes\":{\"below\":[{\"id\":\"1689\"}],\"center\":[{\"id\":\"1692\"},{\"id\":\"1696\"}],\"height\":300,\"left\":[{\"id\":\"1693\"}],\"margin\":[5,5,5,5],\"min_border_bottom\":10,\"min_border_left\":10,\"min_border_right\":10,\"min_border_top\":10,\"renderers\":[{\"id\":\"1722\"},{\"id\":\"1743\"},{\"id\":\"1765\"}],\"right\":[{\"id\":\"1734\"}],\"sizing_mode\":\"fixed\",\"title\":{\"id\":\"1681\"},\"toolbar\":{\"id\":\"1703\"},\"width\":700,\"x_range\":{\"id\":\"1675\"},\"x_scale\":{\"id\":\"1685\"},\"y_range\":{\"id\":\"1676\"},\"y_scale\":{\"id\":\"1687\"}},\"id\":\"1680\",\"subtype\":\"Figure\",\"type\":\"Plot\"},{\"attributes\":{\"fill_alpha\":{\"value\":0.1},\"fill_color\":{\"value\":\"#30a2da\"},\"line_alpha\":{\"value\":0.1},\"line_color\":{\"value\":\"#30a2da\"},\"size\":{\"value\":5.477225575051661},\"x\":{\"field\":\"principal component 1\"},\"y\":{\"field\":\"principal component 2\"}},\"id\":\"1720\",\"type\":\"Scatter\"},{\"attributes\":{},\"id\":\"1732\",\"type\":\"UnionRenderers\"},{\"attributes\":{\"fill_alpha\":{\"value\":0.2},\"fill_color\":{\"value\":\"#fc4f30\"},\"line_alpha\":{\"value\":0.2},\"line_color\":{\"value\":\"#fc4f30\"},\"size\":{\"value\":5.477225575051661},\"x\":{\"field\":\"principal component 1\"},\"y\":{\"field\":\"principal component 2\"}},\"id\":\"1742\",\"type\":\"Scatter\"},{\"attributes\":{},\"id\":\"1760\",\"type\":\"Selection\"},{\"attributes\":{\"bottom_units\":\"screen\",\"fill_alpha\":0.5,\"fill_color\":\"lightgrey\",\"left_units\":\"screen\",\"level\":\"overlay\",\"line_alpha\":1.0,\"line_color\":\"black\",\"line_dash\":[4,4],\"line_width\":2,\"right_units\":\"screen\",\"syncable\":false,\"top_units\":\"screen\"},\"id\":\"1702\",\"type\":\"BoxAnnotation\"},{\"attributes\":{\"fill_alpha\":{\"value\":0.2},\"fill_color\":{\"value\":\"#30a2da\"},\"line_alpha\":{\"value\":0.2},\"line_color\":{\"value\":\"#30a2da\"},\"size\":{\"value\":5.477225575051661},\"x\":{\"field\":\"principal component 1\"},\"y\":{\"field\":\"principal component 2\"}},\"id\":\"1721\",\"type\":\"Scatter\"},{\"attributes\":{\"fill_color\":{\"value\":\"#e5ae38\"},\"line_color\":{\"value\":\"#e5ae38\"},\"size\":{\"value\":5.477225575051661},\"x\":{\"field\":\"principal component 1\"},\"y\":{\"field\":\"principal component 2\"}},\"id\":\"1762\",\"type\":\"Scatter\"},{\"attributes\":{},\"id\":\"1698\",\"type\":\"PanTool\"},{\"attributes\":{\"fill_alpha\":{\"value\":0.2},\"fill_color\":{\"value\":\"#e5ae38\"},\"line_alpha\":{\"value\":0.2},\"line_color\":{\"value\":\"#e5ae38\"},\"size\":{\"value\":5.477225575051661},\"x\":{\"field\":\"principal component 1\"},\"y\":{\"field\":\"principal component 2\"}},\"id\":\"1764\",\"type\":\"Scatter\"},{\"attributes\":{\"label\":{\"value\":\"1\"},\"renderers\":[{\"id\":\"1743\"}]},\"id\":\"1757\",\"type\":\"LegendItem\"},{\"attributes\":{\"axis_label\":\"principal component 2\",\"formatter\":{\"id\":\"1715\"},\"major_label_policy\":{\"id\":\"1713\"},\"ticker\":{\"id\":\"1694\"}},\"id\":\"1693\",\"type\":\"LinearAxis\"}],\"root_ids\":[\"1673\"]},\"title\":\"Bokeh Application\",\"version\":\"2.3.1\"}};\n",
       "    var render_items = [{\"docid\":\"e842209f-dd25-4f98-9aa9-677156ecc8a8\",\"root_ids\":[\"1673\"],\"roots\":{\"1673\":\"a5aa541b-2aa3-462e-85db-398d2335ace5\"}}];\n",
       "    root.Bokeh.embed.embed_items_notebook(docs_json, render_items);\n",
       "  }\n",
       "  if (root.Bokeh !== undefined && root.Bokeh.Panel !== undefined) {\n",
       "    embed_document(root);\n",
       "  } else {\n",
       "    var attempts = 0;\n",
       "    var timer = setInterval(function(root) {\n",
       "      if (root.Bokeh !== undefined && root.Bokeh.Panel !== undefined) {\n",
       "        clearInterval(timer);\n",
       "        embed_document(root);\n",
       "      } else if (document.readyState == \"complete\") {\n",
       "        attempts++;\n",
       "        if (attempts > 200) {\n",
       "          clearInterval(timer);\n",
       "          console.log(\"Bokeh: ERROR: Unable to run BokehJS code because BokehJS library is missing\");\n",
       "        }\n",
       "      }\n",
       "    }, 25, root)\n",
       "  }\n",
       "})(window);</script>"
      ],
      "text/plain": [
       ":NdOverlay   [class]\n",
       "   :Scatter   [principal component 1]   (principal component 2,class)"
      ]
     },
     "execution_count": 14,
     "metadata": {
      "application/vnd.holoviews_exec.v0+json": {
       "id": "1673"
      }
     },
     "output_type": "execute_result"
    }
   ],
   "source": [
    "# Visualize\n",
    "\n",
    "df_iris_pca.hvplot.scatter(\n",
    "    x='principal component 1',\n",
    "    y='principal component 2',\n",
    "    hover_cols=['class'],\n",
    "    by='class')"
   ]
  },
  {
   "cell_type": "code",
   "execution_count": null,
   "id": "06b5b429",
   "metadata": {},
   "outputs": [],
   "source": []
  }
 ],
 "metadata": {
  "kernelspec": {
   "display_name": "pythondata",
   "language": "python",
   "name": "pythondata"
  },
  "language_info": {
   "codemirror_mode": {
    "name": "ipython",
    "version": 3
   },
   "file_extension": ".py",
   "mimetype": "text/x-python",
   "name": "python",
   "nbconvert_exporter": "python",
   "pygments_lexer": "ipython3",
   "version": "3.9.4"
  }
 },
 "nbformat": 4,
 "nbformat_minor": 5
}
